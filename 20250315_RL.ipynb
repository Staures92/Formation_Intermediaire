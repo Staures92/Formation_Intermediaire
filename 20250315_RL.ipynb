{
  "nbformat": 4,
  "nbformat_minor": 0,
  "metadata": {
    "colab": {
      "provenance": [],
      "include_colab_link": true
    },
    "kernelspec": {
      "name": "python3",
      "display_name": "Python 3"
    },
    "language_info": {
      "name": "python"
    }
  },
  "cells": [
    {
      "cell_type": "markdown",
      "metadata": {
        "id": "view-in-github",
        "colab_type": "text"
      },
      "source": [
        "<a href=\"https://colab.research.google.com/github/Staures92/Formation_Intermediaire/blob/main/20250315_RL.ipynb\" target=\"_parent\"><img src=\"https://colab.research.google.com/assets/colab-badge.svg\" alt=\"Open In Colab\"/></a>"
      ]
    },
    {
      "cell_type": "markdown",
      "source": [
        "# Stock Data Collection for EU Stocks"
      ],
      "metadata": {
        "id": "lCSLo1zECrtH"
      }
    },
    {
      "cell_type": "code",
      "source": [
        "!pip install seaborn\n",
        "!pip install yfinance"
      ],
      "metadata": {
        "id": "FJIPtDIqia_4",
        "outputId": "5f718194-6202-49ca-ef9c-ca7face263b9",
        "colab": {
          "base_uri": "https://localhost:8080/"
        }
      },
      "execution_count": 1,
      "outputs": [
        {
          "output_type": "stream",
          "name": "stdout",
          "text": [
            "Requirement already satisfied: seaborn in /usr/local/lib/python3.11/dist-packages (0.13.2)\n",
            "Requirement already satisfied: numpy!=1.24.0,>=1.20 in /usr/local/lib/python3.11/dist-packages (from seaborn) (1.26.4)\n",
            "Requirement already satisfied: pandas>=1.2 in /usr/local/lib/python3.11/dist-packages (from seaborn) (2.2.2)\n",
            "Requirement already satisfied: matplotlib!=3.6.1,>=3.4 in /usr/local/lib/python3.11/dist-packages (from seaborn) (3.10.0)\n",
            "Requirement already satisfied: contourpy>=1.0.1 in /usr/local/lib/python3.11/dist-packages (from matplotlib!=3.6.1,>=3.4->seaborn) (1.3.1)\n",
            "Requirement already satisfied: cycler>=0.10 in /usr/local/lib/python3.11/dist-packages (from matplotlib!=3.6.1,>=3.4->seaborn) (0.12.1)\n",
            "Requirement already satisfied: fonttools>=4.22.0 in /usr/local/lib/python3.11/dist-packages (from matplotlib!=3.6.1,>=3.4->seaborn) (4.56.0)\n",
            "Requirement already satisfied: kiwisolver>=1.3.1 in /usr/local/lib/python3.11/dist-packages (from matplotlib!=3.6.1,>=3.4->seaborn) (1.4.8)\n",
            "Requirement already satisfied: packaging>=20.0 in /usr/local/lib/python3.11/dist-packages (from matplotlib!=3.6.1,>=3.4->seaborn) (24.2)\n",
            "Requirement already satisfied: pillow>=8 in /usr/local/lib/python3.11/dist-packages (from matplotlib!=3.6.1,>=3.4->seaborn) (11.1.0)\n",
            "Requirement already satisfied: pyparsing>=2.3.1 in /usr/local/lib/python3.11/dist-packages (from matplotlib!=3.6.1,>=3.4->seaborn) (3.2.1)\n",
            "Requirement already satisfied: python-dateutil>=2.7 in /usr/local/lib/python3.11/dist-packages (from matplotlib!=3.6.1,>=3.4->seaborn) (2.8.2)\n",
            "Requirement already satisfied: pytz>=2020.1 in /usr/local/lib/python3.11/dist-packages (from pandas>=1.2->seaborn) (2025.1)\n",
            "Requirement already satisfied: tzdata>=2022.7 in /usr/local/lib/python3.11/dist-packages (from pandas>=1.2->seaborn) (2025.1)\n",
            "Requirement already satisfied: six>=1.5 in /usr/local/lib/python3.11/dist-packages (from python-dateutil>=2.7->matplotlib!=3.6.1,>=3.4->seaborn) (1.17.0)\n",
            "Requirement already satisfied: yfinance in /usr/local/lib/python3.11/dist-packages (0.2.54)\n",
            "Requirement already satisfied: pandas>=1.3.0 in /usr/local/lib/python3.11/dist-packages (from yfinance) (2.2.2)\n",
            "Requirement already satisfied: numpy>=1.16.5 in /usr/local/lib/python3.11/dist-packages (from yfinance) (1.26.4)\n",
            "Requirement already satisfied: requests>=2.31 in /usr/local/lib/python3.11/dist-packages (from yfinance) (2.32.3)\n",
            "Requirement already satisfied: multitasking>=0.0.7 in /usr/local/lib/python3.11/dist-packages (from yfinance) (0.0.11)\n",
            "Requirement already satisfied: platformdirs>=2.0.0 in /usr/local/lib/python3.11/dist-packages (from yfinance) (4.3.6)\n",
            "Requirement already satisfied: pytz>=2022.5 in /usr/local/lib/python3.11/dist-packages (from yfinance) (2025.1)\n",
            "Requirement already satisfied: frozendict>=2.3.4 in /usr/local/lib/python3.11/dist-packages (from yfinance) (2.4.6)\n",
            "Requirement already satisfied: peewee>=3.16.2 in /usr/local/lib/python3.11/dist-packages (from yfinance) (3.17.9)\n",
            "Requirement already satisfied: beautifulsoup4>=4.11.1 in /usr/local/lib/python3.11/dist-packages (from yfinance) (4.13.3)\n",
            "Requirement already satisfied: soupsieve>1.2 in /usr/local/lib/python3.11/dist-packages (from beautifulsoup4>=4.11.1->yfinance) (2.6)\n",
            "Requirement already satisfied: typing-extensions>=4.0.0 in /usr/local/lib/python3.11/dist-packages (from beautifulsoup4>=4.11.1->yfinance) (4.12.2)\n",
            "Requirement already satisfied: python-dateutil>=2.8.2 in /usr/local/lib/python3.11/dist-packages (from pandas>=1.3.0->yfinance) (2.8.2)\n",
            "Requirement already satisfied: tzdata>=2022.7 in /usr/local/lib/python3.11/dist-packages (from pandas>=1.3.0->yfinance) (2025.1)\n",
            "Requirement already satisfied: charset-normalizer<4,>=2 in /usr/local/lib/python3.11/dist-packages (from requests>=2.31->yfinance) (3.4.1)\n",
            "Requirement already satisfied: idna<4,>=2.5 in /usr/local/lib/python3.11/dist-packages (from requests>=2.31->yfinance) (3.10)\n",
            "Requirement already satisfied: urllib3<3,>=1.21.1 in /usr/local/lib/python3.11/dist-packages (from requests>=2.31->yfinance) (2.3.0)\n",
            "Requirement already satisfied: certifi>=2017.4.17 in /usr/local/lib/python3.11/dist-packages (from requests>=2.31->yfinance) (2025.1.31)\n",
            "Requirement already satisfied: six>=1.5 in /usr/local/lib/python3.11/dist-packages (from python-dateutil>=2.8.2->pandas>=1.3.0->yfinance) (1.17.0)\n"
          ]
        }
      ]
    },
    {
      "cell_type": "code",
      "source": [
        "import yfinance as yf\n",
        "import pandas as pd\n",
        "import numpy as np\n",
        "import matplotlib.pyplot as plt\n",
        "import seaborn as sns\n",
        "from datetime import datetime, timedelta\n",
        "import random\n",
        "from collections import deque\n",
        "import torch\n",
        "import torch.nn as nn\n",
        "import torch.optim as optim\n",
        "device = torch.device(\"cuda\" if torch.cuda.is_available() else \"cpu\")\n",
        "\n",
        "def fetch_eu_stock_data(tickers, period=\"2y\", interval=\"1d\"):\n",
        "    \"\"\"\n",
        "    Fetch historical stock data for European stocks\n",
        "\n",
        "    Parameters:\n",
        "    tickers (list): List of ticker symbols\n",
        "    period (str): Time period to fetch (1d, 5d, 1mo, 3mo, 6mo, 1y, 2y, 5y, 10y, ytd, max)\n",
        "    interval (str): Data interval (1m, 2m, 5m, 15m, 30m, 60m, 90m, 1h, 1d, 5d, 1wk, 1mo, 3mo)\n",
        "\n",
        "    Returns:\n",
        "    dict: Dictionary containing DataFrames of historical data for each ticker\n",
        "    \"\"\"\n",
        "    # Define the correct ticker symbols for Yahoo Finance\n",
        "    # European stocks usually need the exchange suffix\n",
        "    ticker_mapping = {\n",
        "        \"BMW\": \"BMW.DE\",       # BMW on Frankfurt Exchange\n",
        "        \"Airbus\": \"AIR.PA\",    # Airbus on Paris Exchange\n",
        "        \"Deutsche Bank\": \"DBK.DE\"  # Deutsche Bank on Frankfurt Exchange\n",
        "    }\n",
        "\n",
        "    # Map user-friendly names to actual ticker symbols\n",
        "    ticker_symbols = [ticker_mapping.get(ticker, ticker) for ticker in tickers]\n",
        "\n",
        "    # Dictionary to store the results\n",
        "    stock_data = {}\n",
        "\n",
        "    # Fetch data for each ticker\n",
        "    for i, ticker in enumerate(ticker_symbols):\n",
        "        try:\n",
        "            # Get ticker data\n",
        "            data = yf.download(ticker, period=period, interval=interval, progress=False)\n",
        "\n",
        "            if not data.empty:\n",
        "                # Store data with user-friendly name\n",
        "                stock_data[tickers[i]] = data\n",
        "                print(f\"Successfully downloaded data for {tickers[i]} ({ticker})\")\n",
        "            else:\n",
        "                print(f\"No data found for {tickers[i]} ({ticker})\")\n",
        "        except Exception as e:\n",
        "            print(f\"Error fetching data for {tickers[i]} ({ticker}): {e}\")\n",
        "\n",
        "    return stock_data\n",
        "\n",
        "# Call the function and store the returned data\n",
        "tickers = [\"BMW\", \"Airbus\", \"Deutsche Bank\"]\n",
        "stock_data = fetch_eu_stock_data(tickers)\n",
        "\n",
        "# Print the data samples\n",
        "for ticker, data in stock_data.items():\n",
        "    print(f\"\\n--- {ticker} Data Sample ---\")\n",
        "    print(data.head(2))"
      ],
      "metadata": {
        "colab": {
          "base_uri": "https://localhost:8080/"
        },
        "id": "NbuT4m2pC7UQ",
        "outputId": "5c6dd6da-1465-44c1-8849-e2cdd50e0a54"
      },
      "execution_count": 2,
      "outputs": [
        {
          "output_type": "stream",
          "name": "stdout",
          "text": [
            "YF.download() has changed argument auto_adjust default to True\n",
            "Successfully downloaded data for BMW (BMW.DE)\n",
            "Successfully downloaded data for Airbus (AIR.PA)\n",
            "Successfully downloaded data for Deutsche Bank (DBK.DE)\n",
            "\n",
            "--- BMW Data Sample ---\n",
            "Price           Close       High        Low       Open   Volume\n",
            "Ticker         BMW.DE     BMW.DE     BMW.DE     BMW.DE   BMW.DE\n",
            "Date                                                           \n",
            "2023-03-14  82.966446  83.200769  80.970395  82.141991  1738945\n",
            "2023-03-15  82.176712  84.355011  80.310833  83.409057  2138658\n",
            "\n",
            "--- Airbus Data Sample ---\n",
            "Price            Close        High         Low        Open   Volume\n",
            "Ticker          AIR.PA      AIR.PA      AIR.PA      AIR.PA   AIR.PA\n",
            "Date                                                               \n",
            "2023-03-14  119.728722  120.395079  115.789378  115.789378  1175948\n",
            "2023-03-15  113.966698  119.473940  113.731507  119.395543  1695773\n",
            "\n",
            "--- Deutsche Bank Data Sample ---\n",
            "Price          Close       High       Low      Open    Volume\n",
            "Ticker        DBK.DE     DBK.DE    DBK.DE    DBK.DE    DBK.DE\n",
            "Date                                                         \n",
            "2023-03-14  9.960609  10.034029  9.435376  9.491853  18529040\n",
            "2023-03-15  9.039098  10.009556  9.019331  9.877778  31934640\n"
          ]
        }
      ]
    },
    {
      "cell_type": "code",
      "source": [
        "# Dimension of the stock data\n",
        "for ticker, data in stock_data.items():\n",
        "    rows, columns = data.shape\n",
        "    print(f\"\\n--- {ticker} Data Shape ---\")\n",
        "    print(f\"Num of rows (days): {rows}\")\n",
        "    print(f\"Num of columns (metrics): {columns}\")\n",
        "    #print(f\"Column names: {list(data.columns)}\")"
      ],
      "metadata": {
        "colab": {
          "base_uri": "https://localhost:8080/"
        },
        "id": "heQjGXo8GaPO",
        "outputId": "60c1da01-ce0e-4846-ff9c-01c8ed3dcf6d"
      },
      "execution_count": 3,
      "outputs": [
        {
          "output_type": "stream",
          "name": "stdout",
          "text": [
            "\n",
            "--- BMW Data Shape ---\n",
            "Num of rows (days): 510\n",
            "Num of columns (metrics): 5\n",
            "\n",
            "--- Airbus Data Shape ---\n",
            "Num of rows (days): 512\n",
            "Num of columns (metrics): 5\n",
            "\n",
            "--- Deutsche Bank Data Shape ---\n",
            "Num of rows (days): 510\n",
            "Num of columns (metrics): 5\n"
          ]
        }
      ]
    },
    {
      "cell_type": "code",
      "source": [
        "def analyze_stock_data(stock):\n",
        "    analysis = {}\n",
        "\n",
        "    # Ticker mapping\n",
        "    ticker_mapping = {\n",
        "        \"BMW\": \"BMW.DE\",\n",
        "        \"Airbus\": \"AIR.PA\",\n",
        "        \"Deutsche Bank\": \"DBK.DE\"\n",
        "    }\n",
        "\n",
        "    for ticker, data in stock.items():\n",
        "        if data.empty:\n",
        "            continue\n",
        "\n",
        "        # Get the full ticker symbol with exchange suffix\n",
        "        full_ticker = ticker_mapping.get(ticker, ticker)\n",
        "\n",
        "        # Print column names to debug\n",
        "        #print(f\"Available columns for {ticker}: {data.columns.tolist()}\")\n",
        "\n",
        "        # Find column names in the dataframe\n",
        "        close_col = None\n",
        "        for col in data.columns:\n",
        "            if col[0] == 'Close' and full_ticker in col[1]:\n",
        "                close_col = col\n",
        "                break\n",
        "\n",
        "        if close_col is None:\n",
        "            print(f\"Warning: No Close column found for {ticker}\")\n",
        "            continue\n",
        "\n",
        "        # Do the same for other columns\n",
        "        high_col = next((col for col in data.columns if col[0] == 'High' and full_ticker in col[1]), None)\n",
        "        low_col = next((col for col in data.columns if col[0] == 'Low' and full_ticker in col[1]), None)\n",
        "        volume_col = next((col for col in data.columns if col[0] == 'Volume' and full_ticker in col[1]), None)\n",
        "\n",
        "        if not all([high_col, low_col, volume_col]):\n",
        "            print(f\"Warning: Missing required columns for {ticker}\")\n",
        "            continue\n",
        "\n",
        "        # Calculate daily returns\n",
        "        data['Daily_Return'] = data[close_col].pct_change()\n",
        "\n",
        "        # Rest of the calculation remains the same\n",
        "        start_price = data[close_col].iloc[0]\n",
        "        end_price = data[close_col].iloc[-1]\n",
        "        percent_change = ((end_price - start_price) / start_price) * 100\n",
        "        volatility = data['Daily_Return'].std() * (252 ** 0.5)\n",
        "\n",
        "        analysis[ticker] = {\n",
        "            'Start Price': start_price,\n",
        "            'End Price': end_price,\n",
        "            'Percent Change (%)': percent_change,\n",
        "            'Annualized Volatility (%)': volatility * 100,\n",
        "            'Max Price': data[high_col].max(),\n",
        "            'Min Price': data[low_col].min(),\n",
        "            'Avg Volume': data[volume_col].mean()\n",
        "        }\n",
        "\n",
        "    return analysis\n",
        "\n",
        "# Call the analyze_stock_data function\n",
        "analysis = analyze_stock_data(stock_data)\n",
        "\n",
        "# Convert the analysis dictionary to a DataFrame for tabular display\n",
        "df_analysis = pd.DataFrame(analysis).T  # The .T transposes rows and columns\n",
        "\n",
        "# Display the table with formatted numbers\n",
        "pd.set_option('display.float_format', '{:.2f}'.format)  # Format to 2 decimal places\n",
        "print(\"\\n--- Stock Analysis Results ---\")\n",
        "print(df_analysis)"
      ],
      "metadata": {
        "colab": {
          "base_uri": "https://localhost:8080/"
        },
        "id": "8RGjCZViFEj8",
        "outputId": "8891f89a-8dc5-4368-9fa2-5d5d16a89d8d"
      },
      "execution_count": 4,
      "outputs": [
        {
          "output_type": "stream",
          "name": "stdout",
          "text": [
            "\n",
            "--- Stock Analysis Results ---\n",
            "               Start Price  End Price  Percent Change (%)  \\\n",
            "BMW                  82.97      82.10               -1.04   \n",
            "Airbus              119.73     169.20               41.32   \n",
            "Deutsche Bank         9.96      22.06              121.42   \n",
            "\n",
            "               Annualized Volatility (%)  Max Price  Min Price  Avg Volume  \n",
            "BMW                                25.76     108.62      65.26  1073050.75  \n",
            "Airbus                             22.15     177.30     111.79  1020907.29  \n",
            "Deutsche Bank                      31.09      23.03       7.48  8652437.58  \n"
          ]
        }
      ]
    },
    {
      "cell_type": "markdown",
      "source": [
        "#### **Interpretation:**\n",
        "Deutsche Bank shows highest returns (121.42%) but highest volatility (31.09%), while Airbus offers excellent risk-adjusted returns (41.32% gain with 22.15% volatility). BMW delivered slightly negative returns (-1.04%) despite moderate volatility (25.76%). The data suggests Airbus might deserve a significant allocation given its strong risk-adjusted performance, while Deutsche Bank could be used for growth potential if you can tolerate its higher volatility."
      ],
      "metadata": {
        "id": "XlG9uHDVTQAd"
      }
    },
    {
      "cell_type": "code",
      "source": [
        "# colume names\n",
        "for ticker, data in stock_data.items():\n",
        "    print(f\"Column names: {list(data.columns)}\")"
      ],
      "metadata": {
        "colab": {
          "base_uri": "https://localhost:8080/"
        },
        "id": "VFhTRrXGYwfQ",
        "outputId": "2f14a0ee-71a2-4aab-ea8d-f156750919f0"
      },
      "execution_count": 5,
      "outputs": [
        {
          "output_type": "stream",
          "name": "stdout",
          "text": [
            "Column names: [('Close', 'BMW.DE'), ('High', 'BMW.DE'), ('Low', 'BMW.DE'), ('Open', 'BMW.DE'), ('Volume', 'BMW.DE'), ('Daily_Return', '')]\n",
            "Column names: [('Close', 'AIR.PA'), ('High', 'AIR.PA'), ('Low', 'AIR.PA'), ('Open', 'AIR.PA'), ('Volume', 'AIR.PA'), ('Daily_Return', '')]\n",
            "Column names: [('Close', 'DBK.DE'), ('High', 'DBK.DE'), ('Low', 'DBK.DE'), ('Open', 'DBK.DE'), ('Volume', 'DBK.DE'), ('Daily_Return', '')]\n"
          ]
        }
      ]
    },
    {
      "cell_type": "markdown",
      "source": [
        "####Correlation matrix calculation to  determine the assets  co-movements. Lower correlations between assets generally mean better diversification potential"
      ],
      "metadata": {
        "id": "SXB11NsofaOf"
      }
    },
    {
      "cell_type": "code",
      "source": [
        "# Define the correlation function\n",
        "def calculate_correlation_matrix(stock_data):\n",
        "    \"\"\"Calculate and visualize correlation matrix for stock returns\"\"\"\n",
        "\n",
        "    # Print what we're doing\n",
        "    print(\"Starting correlation calculation...\")\n",
        "    print(f\"Working with {len(stock_data)} stocks: {list(stock_data.keys())}\")\n",
        "\n",
        "    #  Create empty DataFrame for returns\n",
        "    returns = pd.DataFrame()\n",
        "\n",
        "    # Extract returns one by one with debugging\n",
        "    for ticker, data in stock_data.items():\n",
        "        print(f\"Processing {ticker}...\")\n",
        "\n",
        "        # Debug column structure\n",
        "        print(f\"  Column types for {ticker}: {[type(col) for col in data.columns[:2]]}\")\n",
        "        print(f\"  First few column names: {data.columns[:5]}\")\n",
        "\n",
        "        # Find the Close column\n",
        "        try:\n",
        "            close_col = ('Close', f\"{ticker}.DE\")  # Try default format\n",
        "            if ticker == \"Airbus\":\n",
        "                close_col = ('Close', \"AIR.PA\")\n",
        "\n",
        "            print(f\"  Looking for column: {close_col}\")\n",
        "\n",
        "            # Check if column exists\n",
        "            if close_col in data.columns:\n",
        "                print(f\"  Found {close_col} in columns\")\n",
        "            else:\n",
        "                print(f\"  WARNING: {close_col} not found in columns\")\n",
        "                # List all columns with 'Close' as first element\n",
        "                close_columns = [col for col in data.columns if isinstance(col, tuple) and col[0] == 'Close']\n",
        "                print(f\"  Available Close columns: {close_columns}\")\n",
        "                if close_columns:\n",
        "                    close_col = close_columns[0]\n",
        "                    print(f\"  Using {close_col} instead\")\n",
        "                else:\n",
        "                    print(f\"  No suitable Close column found for {ticker}, skipping...\")\n",
        "                    continue\n",
        "\n",
        "            # Calculate returns and add to returns DataFrame\n",
        "            returns[ticker] = data[close_col].pct_change()\n",
        "            print(f\"  Added returns for {ticker}\")\n",
        "\n",
        "        except Exception as e:\n",
        "            print(f\"  ERROR processing {ticker}: {str(e)}\")\n",
        "            print(f\"  Skipping {ticker}\")\n",
        "            continue\n",
        "\n",
        "    # Drop NA values\n",
        "    print(\"\\nDropping NA values...\")\n",
        "    returns = returns.dropna()\n",
        "    print(f\"Returns shape after dropping NA: {returns.shape}\")\n",
        "\n",
        "    if returns.empty:\n",
        "        print(\"ERROR: Returns DataFrame is empty. Cannot calculate correlation.\")\n",
        "        return None\n",
        "\n",
        "    # Calculate correlation\n",
        "    print(\"Calculating correlation matrix...\")\n",
        "    corr_matrix = returns.corr()\n",
        "\n",
        "    # Print the correlation matrix\n",
        "    print(\"\\nCorrelation Matrix:\")\n",
        "    print(corr_matrix)\n",
        "\n",
        "    # Create visualization\n",
        "    try:\n",
        "        print(\"\\nCreating heatmap visualization...\")\n",
        "        plt.figure(figsize=(8, 6))\n",
        "        sns.heatmap(corr_matrix, annot=True, cmap='coolwarm',\n",
        "                    vmin=-1, vmax=1, linewidths=0.5, fmt=\".2f\")\n",
        "        plt.title('Stock Return Correlations')\n",
        "        plt.tight_layout()\n",
        "        plt.savefig('correlation_matrix.png')\n",
        "        #print(\"Saved correlation matrix image to 'correlation_matrix.png'\")\n",
        "        plt.show()\n",
        "    except Exception as e:\n",
        "        print(f\"ERROR creating visualization: {str(e)}\")\n",
        "\n",
        "    return corr_matrix\n",
        "\n",
        "# Call the function with your stock data\n",
        "corr_result = calculate_correlation_matrix(stock_data)"
      ],
      "metadata": {
        "colab": {
          "base_uri": "https://localhost:8080/"
        },
        "id": "NpzlJJzBWPl4",
        "outputId": "c018da7d-7dbf-4550-906b-43b4f5fed829"
      },
      "execution_count": 6,
      "outputs": [
        {
          "output_type": "stream",
          "name": "stdout",
          "text": [
            "Starting correlation calculation...\n",
            "Working with 3 stocks: ['BMW', 'Airbus', 'Deutsche Bank']\n",
            "Processing BMW...\n",
            "  Column types for BMW: [<class 'tuple'>, <class 'tuple'>]\n",
            "  First few column names: MultiIndex([( 'Close', 'BMW.DE'),\n",
            "            (  'High', 'BMW.DE'),\n",
            "            (   'Low', 'BMW.DE'),\n",
            "            (  'Open', 'BMW.DE'),\n",
            "            ('Volume', 'BMW.DE')],\n",
            "           names=['Price', 'Ticker'])\n",
            "  Looking for column: ('Close', 'BMW.DE')\n",
            "  Found ('Close', 'BMW.DE') in columns\n",
            "  Added returns for BMW\n",
            "Processing Airbus...\n",
            "  Column types for Airbus: [<class 'tuple'>, <class 'tuple'>]\n",
            "  First few column names: MultiIndex([( 'Close', 'AIR.PA'),\n",
            "            (  'High', 'AIR.PA'),\n",
            "            (   'Low', 'AIR.PA'),\n",
            "            (  'Open', 'AIR.PA'),\n",
            "            ('Volume', 'AIR.PA')],\n",
            "           names=['Price', 'Ticker'])\n",
            "  Looking for column: ('Close', 'AIR.PA')\n",
            "  Found ('Close', 'AIR.PA') in columns\n",
            "  Added returns for Airbus\n",
            "Processing Deutsche Bank...\n",
            "  Column types for Deutsche Bank: [<class 'tuple'>, <class 'tuple'>]\n",
            "  First few column names: MultiIndex([( 'Close', 'DBK.DE'),\n",
            "            (  'High', 'DBK.DE'),\n",
            "            (   'Low', 'DBK.DE'),\n",
            "            (  'Open', 'DBK.DE'),\n",
            "            ('Volume', 'DBK.DE')],\n",
            "           names=['Price', 'Ticker'])\n",
            "  Looking for column: ('Close', 'Deutsche Bank.DE')\n",
            "  WARNING: ('Close', 'Deutsche Bank.DE') not found in columns\n",
            "  Available Close columns: [('Close', 'DBK.DE')]\n",
            "  Using ('Close', 'DBK.DE') instead\n",
            "  Added returns for Deutsche Bank\n",
            "\n",
            "Dropping NA values...\n",
            "Returns shape after dropping NA: (509, 3)\n",
            "Calculating correlation matrix...\n",
            "\n",
            "Correlation Matrix:\n",
            "               BMW  Airbus  Deutsche Bank\n",
            "BMW           1.00    0.27           0.34\n",
            "Airbus        0.27    1.00           0.39\n",
            "Deutsche Bank 0.34    0.39           1.00\n",
            "\n",
            "Creating heatmap visualization...\n"
          ]
        },
        {
          "output_type": "display_data",
          "data": {
            "text/plain": [
              "<Figure size 800x600 with 2 Axes>"
            ],
            "image/png": "[encoded data removed]"
          },
          "metadata": {}
        }
      ]
    },
    {
      "cell_type": "markdown",
      "source": [
        "###Calculating average historical return for the 3 assets"
      ],
      "metadata": {
        "id": "MktpP0XwnAMh"
      }
    },
    {
      "cell_type": "code",
      "source": [
        "# For BMW.DE\n",
        "# First check if Daily_Return exists specifically for BMW.DE\n",
        "if ('Daily_Return', 'BMW.DE') in stock_data['BMW'].columns:  # Access the 'BMW' DataFrame\n",
        "    bmw_return_key = ('Daily_Return', 'BMW.DE')\n",
        "else:\n",
        "    # If not, calculate it from Close prices\n",
        "    stock_data['BMW'][('Daily_Return', 'BMW.DE')] = stock_data['BMW'][('Close', 'BMW.DE')].pct_change()  # Access the 'BMW' DataFrame\n",
        "    bmw_return_key = ('Daily_Return', 'BMW.DE')\n",
        "\n",
        "# For AIR.PA\n",
        "if ('Daily_Return', 'AIR.PA') in stock_data['Airbus'].columns: #Access the 'Airbus' DataFrame\n",
        "    air_return_key = ('Daily_Return', 'AIR.PA')\n",
        "else:\n",
        "    #Access the 'Airbus' DataFrame and calculate Daily_Return for AIR.PA\n",
        "    stock_data['Airbus'][('Daily_Return', 'AIR.PA')] = stock_data['Airbus'][('Close', 'AIR.PA')].pct_change()\n",
        "    air_return_key = ('Daily_Return', 'AIR.PA')\n",
        "\n",
        "# For DBK.DE\n",
        "# Change 'DBK' to 'Deutsche Bank' to match the key in stock_data\n",
        "if ('Daily_Return', 'DBK.DE') in stock_data['Deutsche Bank'].columns:\n",
        "    dbk_return_key = ('Daily_Return', 'DBK.DE')\n",
        "else:\n",
        "    # Access the 'Deutsche Bank' DataFrame and add the 'Daily_Return' column\n",
        "    stock_data['Deutsche Bank'][('Daily_Return', 'DBK.DE')] = stock_data['Deutsche Bank'][('Close', 'DBK.DE')].pct_change()\n",
        "    dbk_return_key = ('Daily_Return', 'DBK.DE')\n",
        "\n",
        "# Calculate average returns\n",
        "bmw_avg_return = stock_data['BMW'][bmw_return_key].mean()  # Access using bmw_return_key\n",
        "air_avg_return = stock_data['Airbus'][air_return_key].mean()  # Access using air_return_key\n",
        "dbk_avg_return = stock_data['Deutsche Bank'][dbk_return_key].mean()  # Access using dbk_return_key\n",
        "\n",
        "\n",
        "print(f\"BMW.DE Average Historical Daily Return: {bmw_avg_return:.6f}\")\n",
        "print(f\"AIR.PA Average Historical Daily Return: {air_avg_return:.6f}\")\n",
        "print(f\"DBK.DE Average Historical Daily Return: {dbk_avg_return:.6f}\")"
      ],
      "metadata": {
        "id": "ZcZHVCWfDz6d",
        "outputId": "bec8b49c-b323-4169-8233-e0cedd552504",
        "colab": {
          "base_uri": "https://localhost:8080/"
        }
      },
      "execution_count": 7,
      "outputs": [
        {
          "output_type": "stream",
          "name": "stdout",
          "text": [
            "BMW.DE Average Historical Daily Return: 0.000112\n",
            "AIR.PA Average Historical Daily Return: 0.000775\n",
            "DBK.DE Average Historical Daily Return: 0.001755\n"
          ]
        }
      ]
    },
    {
      "cell_type": "markdown",
      "source": [
        "####**ESG scores:** to integrate ESG scores with the stock data we will require a subscription or license from one of these providers (MSCI or Sustainalytics)\n",
        "\n",
        "Based on typical industry ESG profiles and the performance characteristics shown in the data, the high volatility and dramatic growth of Deutsche Bank suggests potentially higher risk, which often correlates with lower sustainability scores.\n",
        "\n",
        "Due to that we suggest the following sustainability scores\n",
        "\n",
        "BMW.DE: 0.73\n",
        "\n",
        " AIR.PA: 0.68\n",
        "\n",
        " DBK.DE: 0.62"
      ],
      "metadata": {
        "id": "Xg_j2Fy1p8VE"
      }
    },
    {
      "cell_type": "markdown",
      "source": [
        "# Environment and Benchmark Strategy"
      ],
      "metadata": {
        "id": "iwBMZ7d5lfsx"
      }
    },
    {
      "cell_type": "markdown",
      "source": [
        "#### `__init__`  Initialization and Status Settings\n",
        "Defines the environment states:\n",
        "- Creates discrete state spaces for\n",
        "    * Assets  *(1 stock and 2 bonds)*\n",
        "    * Sustainability focus  *(Only 1 State)*\n",
        "    * Market conditions  *(Risk-Free Rate and Volatility)*\n",
        "    * Coefficient matrics  *(9 Different Groups)*\n",
        "- Uses nested loops to assign a unique index to each state combination, stored in `state_to_idx`.\n",
        "- Sets base returns for each asset and sustainability scores.\n",
        "- Defines the transaction cost rate and initializes the previous allocation as a zero vector.\n",
        "- Calls `reset()` to initialize the current state.  \n",
        "\n",
        "#### `reset`  Reset Environment\n",
        "- Randomly choosing some states  *(Asset type, Market condition, Coefficient Metrics)*\n",
        "- Keeps the sustainability focus fixed since there's only one state.\n",
        "- Constructs the current state tuple and obtains its index from `state_to_idx`.\n",
        "- Resets the previous allocation to a zero vector.\n",
        "- Returns the current state index.  \n",
        "\n",
        "#### `step`  Execute Actions and State Transitions\n",
        "- Executes the given action and computes the reward using `calculate_reward`.\n",
        "- Updates the previous asset allocation with the new allocation from the action.\n",
        "- Performs a simple random state transition by selecting new state components.\n",
        "- Returns the new state index, the computed reward, a done flag (always False here), and additional reward details.  \n",
        "\n",
        "#### `get_market_condition`  Get Market Condition\n",
        "- Returns the market condition for the current state if no index is provided.\n",
        "- If a state index is given, it loops through `state_to_idx` to find the corresponding state tuple.\n",
        "- Extracts and returns the market condition from the found state.  \n",
        "\n",
        "#### `calculate_reward`  Calculate Reward\n",
        "- Computes reward based on the provided action (selection and allocation).\n",
        "- Calculates three components:\n",
        "  * Financial return via `_calculate_financial_return`.\n",
        "  * Sustainability score via `_calculate_sustainability`.\n",
        "  * Transaction cost via `_calculate_transaction_cost`.\n",
        "- Combines these components with specific weights to form the final reward.\n",
        "- Returns the reward and a dictionary with detailed components.  \n",
        "\n",
        "#### `_calculate_financial_return`  Calculate Financial Return\n",
        "- Retrieves the base returns for each asset.\n",
        "- Determines a market factor: 1.2 for \"MC1\" (bull market) and 0.8 otherwise.\n",
        "- Computes an adjustment effect based on the coefficient matrix index.\n",
        "- Calculates adjusted returns and computes the total financial return by taking the weighted sum with the allocation.  \n",
        "\n",
        "#### `_calculate_sustainability`  Calculate Sustainability\n",
        "- Iterates over each asset.\n",
        "- For assets marked as selected (binary value 1), multiplies the allocation by the asset's sustainability score.\n",
        "- Sums the products to compute the total sustainability score.  \n",
        "\n",
        "#### `_calculate_transaction_cost` Calculate Transaction Cost\n",
        "- Computes the absolute differences between the current allocation and the previous allocation.\n",
        "- Sums these differences and multiplies by the transaction cost rate to yield the total transaction cost.  \n",
        "\n",
        "#### `update_previous_allocation`  \n",
        "- Updates the previous allocation with a copy of the current allocation.\n",
        "- This is used for calculating transaction costs in subsequent steps."
      ],
      "metadata": {
        "id": "tCLKU768lhr2"
      }
    },
    {
      "cell_type": "code",
      "source": [
        "class SustainablePortfolioEnv:\n",
        "    def __init__(self):\n",
        "        # Define real EU assets\n",
        "        self.io_states = [\"BMW.DE\", \"AIR.PA\", \"DBK.DE\"]  # BMW, Airbus, Deutsche Bank\n",
        "        self.sf_states = [\"SF1\"]  # Sustainability Focus\n",
        "        self.mc_states = [\"Bullish\", \"Bearish\"]  # Market Conditions\n",
        "        self.cm_states = [f\"CM{i}\" for i in range(1, 10)]  # Coefficient Metrics\n",
        "\n",
        "        # State indexing\n",
        "        self.state_to_idx = {}\n",
        "        idx = 0\n",
        "        for io in self.io_states:\n",
        "            for sf in self.sf_states:\n",
        "                for mc in self.mc_states:\n",
        "                    for cm in self.cm_states:\n",
        "                        self.state_to_idx[(io, sf, mc, cm)] = idx\n",
        "                        idx += 1\n",
        "\n",
        "        # Historical average returns (calculated from your data analysis)\n",
        "        self.base_returns = {\"BMW.DE\": 0.000112, \"AIR.PA\": 0.000775, \"DBK.DE\": 0.001755}\n",
        "\n",
        "        # Sustainability scores (example ESG ratings)\n",
        "        self.sustainability_scores = {\"BMW.DE\": 0.73, \"AIR.PA\": 0.68, \"DBK.DE\": 0.62}\n",
        "\n",
        "\n",
        "        # Transaction cost rate\n",
        "        self.transaction_cost_rate = 0.001\n",
        "\n",
        "        # Initialize previous allocation to zeros\n",
        "        self.prev_allocation = np.zeros(3)\n",
        "\n",
        "        # Initialize the state\n",
        "        self.reset()\n",
        "\n",
        "    def reset(self):\n",
        "        \"\"\"Reset the environment to a random initial state and return the state index.\"\"\"\n",
        "        self.current_io = random.choice(self.io_states)\n",
        "        self.current_sf = self.sf_states[0]  # Only one state\n",
        "        self.current_mc = random.choice(self.mc_states)\n",
        "        self.current_cm = random.choice(self.cm_states)\n",
        "        self.current_state = (self.current_io, self.current_sf, self.current_mc, self.current_cm)\n",
        "        self.state_idx = self.state_to_idx[self.current_state]\n",
        "        self.prev_allocation = np.zeros(3)\n",
        "        return self.state_idx\n",
        "\n",
        "    def step(self, action):\n",
        "        \"\"\"Execute action and return new state, reward, done flag, and info.\"\"\"\n",
        "        reward, reward_info = self.calculate_reward(action)\n",
        "        self.update_previous_allocation(action[1])\n",
        "\n",
        "        # Simulate market condition transitions (random for now)\n",
        "        next_io = random.choice(self.io_states)\n",
        "        next_sf = self.sf_states[0]\n",
        "        next_mc = random.choice(self.mc_states)\n",
        "        next_cm = random.choice(self.cm_states)\n",
        "\n",
        "        self.current_state = (next_io, next_sf, next_mc, next_cm)\n",
        "        self.state_idx = self.state_to_idx[self.current_state]\n",
        "\n",
        "        done = False  # Continuing environment\n",
        "        return self.state_idx, reward, done, reward_info\n",
        "\n",
        "    def get_market_condition(self, state_idx=None):\n",
        "        \"\"\"\n",
        "        Get the market condition (Bullish or Bearish) based on the current or given state index.\n",
        "\n",
        "        Args:\n",
        "            state_idx: Optional state index to retrieve market condition for.\n",
        "\n",
        "        Returns:\n",
        "            Market condition string (\"Bullish\" or \"Bearish\").\n",
        "        \"\"\"\n",
        "        if state_idx is None:\n",
        "            return self.current_mc\n",
        "        else:\n",
        "            for state, idx in self.state_to_idx.items():\n",
        "                if idx == state_idx:\n",
        "                    _, _, mc, _ = state\n",
        "                    return mc\n",
        "            return None\n",
        "\n",
        "    def calculate_reward(self, action):\n",
        "        \"\"\"Calculate reward based on financial return, sustainability score, and transaction cost.\"\"\"\n",
        "        selection = action[0]  # Binary array of length 3\n",
        "        allocation = action[1]  # Continuous array of length 3\n",
        "\n",
        "        financial_return = self._calculate_financial_return(allocation)\n",
        "        sustainability_score = self._calculate_sustainability(selection, allocation)\n",
        "        transaction_cost = self._calculate_transaction_cost(allocation)\n",
        "\n",
        "        reward = financial_return + 0.7 * sustainability_score - 0.3*transaction_cost\n",
        "\n",
        "        return reward, {\n",
        "            'financial_return': financial_return,\n",
        "            'sustainability_score': sustainability_score,\n",
        "            'transaction_cost': transaction_cost\n",
        "        }\n",
        "\n",
        "    def _calculate_financial_return(self, allocation):\n",
        "        \"\"\"Calculate financial return based on asset returns and market conditions.\"\"\"\n",
        "\n",
        "        base_returns = np.array([self.base_returns[\"BMW.DE\"],\n",
        "                                  self.base_returns[\"AIR.PA\"],\n",
        "                                  self.base_returns[\"DBK.DE\"]])\n",
        "\n",
        "        market_factor = 1.2 if self.current_mc == \"Bullish\" else 0.8\n",
        "\n",
        "        adjusted_returns = base_returns * market_factor\n",
        "\n",
        "        return np.sum(allocation * adjusted_returns)\n",
        "\n",
        "    def _calculate_sustainability(self, selection, allocation):\n",
        "        \"\"\"Calculate sustainability score based on ESG ratings.\"\"\"\n",
        "\n",
        "        sustainability_score = sum(\n",
        "            allocation[i] * (self.sustainability_scores[self.io_states[i]] if selection[i] == 1 else 0)\n",
        "            for i in range(len(selection))\n",
        "        )\n",
        "\n",
        "        return sustainability_score\n",
        "\n",
        "    def _calculate_transaction_cost(self, allocation):\n",
        "\n",
        "       transact_amount= np.sum(np.abs(allocation -self.prev_allocation))\n",
        "       return max(0.01 ,transact_amount*self.transaction_cost_rate)\n",
        "\n",
        "    def update_previous_allocation(self ,allocation):\n",
        "      \"\"\"Update previous allocation after each step\"\"\"\n",
        "      prev_allocation=allocation.copy()\n",
        "\n"
      ],
      "metadata": {
        "id": "xFvhn4f4leEL"
      },
      "execution_count": 8,
      "outputs": []
    },
    {
      "cell_type": "markdown",
      "source": [
        "# Benchmark Policy"
      ],
      "metadata": {
        "id": "TDhJYSAIl4Fc"
      }
    },
    {
      "cell_type": "markdown",
      "source": [
        "- The `BenchmarkPolicy` class implements a baseline strategy.\n",
        "- In the `act` method:\n",
        "  * Retrieves the market condition using `get_market_condition`.\n",
        "  * For a bull market (\"MC1\"), selects a specific asset combination (e.g., higher weight on stocks).\n",
        "  * For a bear market, allocates all assets with different weights.\n",
        "  * Normalizes the allocation if the sum is greater than zero.\n",
        "- Returns the selection (binary array) and allocation (continuous array)."
      ],
      "metadata": {
        "id": "4pa0yosdl4nD"
      }
    },
    {
      "cell_type": "code",
      "source": [
        "class BenchmarkPolicy:\n",
        "    def __init__(self, env):\n",
        "        self.env = env\n",
        "\n",
        "    def act(self, state_idx):\n",
        "        market_condition = self.env.get_market_condition(state_idx)\n",
        "        if market_condition == \"Bullish \":  # Bullish market\n",
        "           # selection = np.array([1, 1, 0])\n",
        "            #allocation = np.array([0.2, 0.8, 0.0])\n",
        "            selection = np.array([1, 1, 0])\n",
        "            allocation = np.array([0.6, 0.4, 0.0])\n",
        "        else:  # Bearish market\n",
        "           # selection = np.array([1, 1, 1])\n",
        "           # allocation = np.array([0.1, 0.5, 0.4])\n",
        "            selection = np.array([1, 1, 1])\n",
        "            allocation = np.array([0.3, 0.3, 0.4])\n",
        "        for i in range(3):\n",
        "            if selection[i] == 0:\n",
        "                allocation[i] = 0\n",
        "        if np.sum(allocation) > 0:\n",
        "            allocation = allocation / np.sum(allocation)\n",
        "        return [selection, allocation]"
      ],
      "metadata": {
        "id": "apzbNZ0Tl2Yk"
      },
      "execution_count": 9,
      "outputs": []
    },
    {
      "cell_type": "markdown",
      "source": [
        "# Hierarchical Portfolio Agent"
      ],
      "metadata": {
        "id": "BFgdocXDl9uo"
      }
    },
    {
      "cell_type": "markdown",
      "source": [
        "### `HighLevelModel`  High-level strategy DQN model\n",
        "- Implements a DQN model that maps the state to action Q-values.\n",
        "- Consists of three fully connected layers:\n",
        "  * Two hidden layers with 24 neurons each, using ReLU activation.\n",
        "  * An output layer that produces the Q-values for each possible action."
      ],
      "metadata": {
        "id": "HNdMNJ7ml-Lj"
      }
    },
    {
      "cell_type": "code",
      "source": [
        "class HighLevelModel(nn.Module):\n",
        "    def __init__(self, state_size, action_size):\n",
        "        super(HighLevelModel, self).__init__()\n",
        "        self.fc1 = nn.Linear(state_size, 24)\n",
        "        self.fc2 = nn.Linear(24, 24)\n",
        "        self.fc3 = nn.Linear(24, action_size)\n",
        "\n",
        "    def forward(self, x):\n",
        "        x = torch.relu(self.fc1(x))\n",
        "        x = torch.relu(self.fc2(x))\n",
        "        x = self.fc3(x)\n",
        "        return x"
      ],
      "metadata": {
        "id": "_34lkA5bl8dh"
      },
      "execution_count": 10,
      "outputs": []
    },
    {
      "cell_type": "markdown",
      "source": [
        "### `ActorModel`  Low-level Actor Model\n",
        "- Generates asset allocation based on the state and a one-hot selection vector.\n",
        "- Concatenates the state and selection vectors as input.\n",
        "- Uses two hidden layers with ReLU activation.\n",
        "- Outputs allocation values using a Sigmoid activation to ensure values between 0 and 1."
      ],
      "metadata": {
        "id": "OdybbqG3mBly"
      }
    },
    {
      "cell_type": "code",
      "source": [
        "class ActorModel(nn.Module):\n",
        "    def __init__(self, state_size, num_assets):\n",
        "        super(ActorModel, self).__init__()\n",
        "        self.fc1 = nn.Linear(state_size + num_assets, 24)\n",
        "        self.fc2 = nn.Linear(24, 24)\n",
        "        self.fc3 = nn.Linear(24, num_assets)\n",
        "\n",
        "    def forward(self, state, selection):\n",
        "        x = torch.cat([state, selection], dim=1)\n",
        "        x = torch.relu(self.fc1(x))\n",
        "        x = torch.relu(self.fc2(x))\n",
        "        x = torch.sigmoid(self.fc3(x))\n",
        "        return x"
      ],
      "metadata": {
        "id": "tsgb5i4CmAgX"
      },
      "execution_count": 11,
      "outputs": []
    },
    {
      "cell_type": "markdown",
      "source": [
        "### `CriticModel`  Low-level Critic Model\n",
        "- Evaluates the value of a given state-action (selection and allocation) pair.\n",
        "- Inputs are the concatenation of state, selection, and allocation vectors.\n",
        "- Passes the concatenated vector through two hidden layers with ReLU activation.\n",
        "- Outputs a single value representing the state-action value."
      ],
      "metadata": {
        "id": "tYnSa0ZKmEdX"
      }
    },
    {
      "cell_type": "code",
      "source": [
        "class CriticModel(nn.Module):\n",
        "    def __init__(self, state_size, num_assets):\n",
        "        super(CriticModel, self).__init__()\n",
        "        self.fc1 = nn.Linear(state_size + num_assets + num_assets, 24)\n",
        "        self.fc2 = nn.Linear(24, 24)\n",
        "        self.fc3 = nn.Linear(24, 1)\n",
        "\n",
        "    def forward(self, state, selection, allocation):\n",
        "        x = torch.cat([state, selection, allocation], dim=1)\n",
        "        x = torch.relu(self.fc1(x))\n",
        "        x = torch.relu(self.fc2(x))\n",
        "        x = self.fc3(x)\n",
        "        return x"
      ],
      "metadata": {
        "id": "1MclpReQmDXx"
      },
      "execution_count": 12,
      "outputs": []
    },
    {
      "cell_type": "markdown",
      "source": [
        "### `HierarchicalPortfolioAgent`  Hierarchical Portfolio Agent: Constuctor  \n",
        "\n",
        "#### `__init__`\n",
        "- Initializes a hierarchical RL agent with two levels:\n",
        "  * High-level model for action selection (DQN).\n",
        "  * Low-level Actor and Critic models for asset allocation.\n",
        "- Sets up replay memories for both high-level and low-level experiences.\n",
        "- Defines hyperparameters: gamma, epsilon (and its decay), and learning rate.\n",
        "- Builds the models and transfers them to the GPU (if available).\n",
        "- Creates target networks for stability and sets up optimizers for each network.  \n",
        "\n",
        "#### Target Network Update and Helper Method\n",
        "- `update_target_networks`:\n",
        "  * Performs a soft update of the target networks by mixing current network parameters with target parameters using factor `tau`.\n",
        "- `_selection_to_onehot`:\n",
        "  * Converts an integer selection index into a one-hot encoded vector.  \n",
        "\n",
        "#### `act` Method\n",
        "- Converts the state index into a one-hot vector and transfers it to the GPU.\n",
        "- **High-Level Decision:**\n",
        "  * Uses an epsilon-greedy strategy: with probability epsilon, a random high-level action is chosen; otherwise, the action with the highest Q-value is selected.\n",
        "  * Converts the chosen action into a one-hot selection vector.\n",
        "- **Low-Level Decision:**\n",
        "  * The Actor model generates the asset allocation based on the state and selection.\n",
        "  * For assets not selected (where selection is 0), allocation is set to 0.\n",
        "  * The allocation is normalized if its sum is greater than zero.\n",
        "- Returns the final selection and allocation.  \n",
        "\n",
        "#### `remember` and `replay` Methods\n",
        "- **`remember` Method:**\n",
        "  * Converts the current and next states to one-hot vectors.\n",
        "  * Encodes the selection vector into an integer index.\n",
        "  * Stores the experience tuple in both high-level and low-level memory.\n",
        "- **`replay` Method:**\n",
        "  * Checks if there are enough samples in memory.\n",
        "  * For the high-level model (DQN):\n",
        "    - Samples a mini-batch and computes target Q-values.\n",
        "    - Uses MSE loss to update the high-level network.\n",
        "  * For the low-level models (DDPG):\n",
        "    - Samples a mini-batch and updates the Critic by computing the target Q-value.\n",
        "    - Updates the Actor by maximizing the expected Q-value (minimizing negative value).\n",
        "    - Updates the target networks.\n",
        "  * Decays epsilon for exploration."
      ],
      "metadata": {
        "id": "X2lOMLwsmHe3"
      }
    },
    {
      "cell_type": "code",
      "source": [
        "class HierarchicalPortfolioAgent:\n",
        "    def __init__(self, state_size, action_size, num_assets=3):\n",
        "        self.state_size = state_size\n",
        "        self.action_size = action_size\n",
        "        self.num_assets = num_assets\n",
        "\n",
        "        self.high_memory = deque(maxlen=2000)\n",
        "        self.low_memory = deque(maxlen=2000)\n",
        "\n",
        "        self.gamma = 0.95\n",
        "        self.epsilon = 1.0\n",
        "        self.epsilon_min = 0.01\n",
        "        self.epsilon_decay = 0.995\n",
        "        self.learning_rate = 0.001\n",
        "\n",
        "        self.high_level_model = HighLevelModel(state_size, action_size).to(device)\n",
        "        self.low_level_actor = ActorModel(state_size, num_assets).to(device)\n",
        "        self.low_level_critic = CriticModel(state_size, num_assets).to(device)\n",
        "\n",
        "        self.target_actor = ActorModel(state_size, num_assets).to(device)\n",
        "        self.target_critic = CriticModel(state_size, num_assets).to(device)\n",
        "        self.update_target_networks(tau=1.0)\n",
        "\n",
        "        self.high_optimizer = optim.Adam(self.high_level_model.parameters(), lr=self.learning_rate)\n",
        "        self.actor_optimizer = optim.Adam(self.low_level_actor.parameters(), lr=self.learning_rate)\n",
        "        self.critic_optimizer = optim.Adam(self.low_level_critic.parameters(), lr=self.learning_rate)\n",
        "\n",
        "    def update_target_networks(self, tau=0.001):\n",
        "        for target_param, param in zip(self.target_actor.parameters(), self.low_level_actor.parameters()):\n",
        "            target_param.data.copy_(tau * param.data + (1 - tau) * target_param.data)\n",
        "        for target_param, param in zip(self.target_critic.parameters(), self.low_level_critic.parameters()):\n",
        "            target_param.data.copy_(tau * param.data + (1 - tau) * target_param.data)\n",
        "\n",
        "    def _selection_to_onehot(self, selection_idx):\n",
        "        selection = np.zeros(self.num_assets)\n",
        "        binary = format(selection_idx, f'0{self.num_assets}b')\n",
        "        for i in range(self.num_assets):\n",
        "            selection[i] = int(binary[i])\n",
        "        return selection\n",
        "\n",
        "    def act(self, state_idx):\n",
        "        state = np.zeros(self.state_size)\n",
        "        state[state_idx] = 1\n",
        "        state_tensor = torch.FloatTensor(state).unsqueeze(0).to(device)\n",
        "\n",
        "        # High-level policy\n",
        "        if np.random.rand() <= self.epsilon:\n",
        "            high_action = random.randrange(self.action_size)\n",
        "        else:\n",
        "            with torch.no_grad():\n",
        "                act_values = self.high_level_model(state_tensor)\n",
        "                high_action = torch.argmax(act_values, dim=1).item()\n",
        "        selection = self._selection_to_onehot(high_action)\n",
        "        selection_tensor = torch.FloatTensor(selection).unsqueeze(0).to(device)\n",
        "\n",
        "        # Low-level policy\n",
        "        with torch.no_grad():\n",
        "            allocation = self.low_level_actor(state_tensor, selection_tensor)[0]\n",
        "        allocation = allocation.cpu().numpy()\n",
        "        for i in range(self.num_assets):\n",
        "            if selection[i] == 0:\n",
        "                allocation[i] = 0\n",
        "        if np.sum(allocation) > 0:\n",
        "            allocation = allocation / np.sum(allocation)\n",
        "        return [selection, allocation]\n",
        "\n",
        "    def remember(self, state, action, reward, next_state, done):\n",
        "        selection, allocation = action\n",
        "        state_onehot = np.zeros(self.state_size)\n",
        "        state_onehot[state] = 1\n",
        "        next_state_onehot = np.zeros(self.state_size)\n",
        "        next_state_onehot[next_state] = 1\n",
        "        selection_idx = int(''.join(map(str, map(int, selection))), 2)\n",
        "        self.high_memory.append((state_onehot, selection_idx, reward, next_state_onehot, done))\n",
        "        self.low_memory.append((state_onehot, selection, allocation, reward, next_state_onehot, done))\n",
        "\n",
        "    def replay(self, batch_size):\n",
        "        if len(self.high_memory) < batch_size or len(self.low_memory) < batch_size:\n",
        "            return\n",
        "\n",
        "        # High-level model training (DQN)\n",
        "        minibatch = random.sample(self.high_memory, batch_size)\n",
        "        for state, action, reward, next_state, done in minibatch:\n",
        "            state_tensor = torch.FloatTensor(state).unsqueeze(0).to(device)\n",
        "            next_state_tensor = torch.FloatTensor(next_state).unsqueeze(0).to(device)\n",
        "            target = reward\n",
        "            if not done:\n",
        "                with torch.no_grad():\n",
        "                    target = reward + self.gamma * torch.max(self.high_level_model(next_state_tensor)[0]).item()\n",
        "            target_f = self.high_level_model(state_tensor).cpu().detach().numpy()\n",
        "            target_f[0][action] = target\n",
        "\n",
        "            self.high_optimizer.zero_grad()\n",
        "            output = self.high_level_model(state_tensor)\n",
        "            loss = nn.MSELoss()(output, torch.FloatTensor(target_f).to(device))\n",
        "            loss.backward()\n",
        "            self.high_optimizer.step()\n",
        "\n",
        "        # Low-level model training (DDPG)\n",
        "        minibatch = random.sample(self.low_memory, batch_size)\n",
        "        for state, selection, allocation, reward, next_state, done in minibatch:\n",
        "            state_tensor = torch.FloatTensor(state).unsqueeze(0).to(device)\n",
        "            selection_tensor = torch.FloatTensor(selection).unsqueeze(0).to(device)\n",
        "            allocation_tensor = torch.FloatTensor(allocation).unsqueeze(0).to(device)\n",
        "            next_state_tensor = torch.FloatTensor(next_state).unsqueeze(0).to(device)\n",
        "\n",
        "            # Critic update\n",
        "            if not done:\n",
        "                with torch.no_grad():\n",
        "                    next_allocation = self.target_actor(next_state_tensor, selection_tensor)\n",
        "                    target_q = reward + self.gamma * self.target_critic(next_state_tensor, selection_tensor, next_allocation)\n",
        "            else:\n",
        "                target_q = torch.FloatTensor([[reward]]).to(device)\n",
        "\n",
        "            self.critic_optimizer.zero_grad()\n",
        "            current_q = self.low_level_critic(state_tensor, selection_tensor, allocation_tensor)\n",
        "            critic_loss = nn.MSELoss()(current_q, target_q)\n",
        "            critic_loss.backward()\n",
        "            self.critic_optimizer.step()\n",
        "\n",
        "            # Actor update\n",
        "            self.actor_optimizer.zero_grad()\n",
        "            actions = self.low_level_actor(state_tensor, selection_tensor)\n",
        "            actor_loss = -self.low_level_critic(state_tensor, selection_tensor, actions).mean()\n",
        "            actor_loss.backward()\n",
        "            self.actor_optimizer.step()\n",
        "\n",
        "            self.update_target_networks()\n",
        "\n",
        "        if self.epsilon > self.epsilon_min:\n",
        "            self.epsilon *= self.epsilon_decay"
      ],
      "metadata": {
        "id": "zo84ymmRmF28"
      },
      "execution_count": 13,
      "outputs": []
    },
    {
      "cell_type": "markdown",
      "source": [
        "# Simulation Training and Result Plotting"
      ],
      "metadata": {
        "id": "tpkO0WcpmOIn"
      }
    },
    {
      "cell_type": "markdown",
      "source": [
        "- Initializes the environment, the benchmark policy, and the hierarchical RL agent.\n",
        "- Runs simulations for the benchmark policy:\n",
        "  * For each episode, resets the environment and accumulates total rewards by following the benchmark strategy.\n",
        "- Runs training for the RL agent:\n",
        "  * For each episode, the agent acts, the experience is stored, and the network is updated via replay.\n",
        "- Prints summary results of average rewards for both benchmark and agent.\n",
        "- Plots the learning curves and saves the figure."
      ],
      "metadata": {
        "id": "31k3oqaLmO1r"
      }
    },
    {
      "cell_type": "code",
      "source": [
        "def run_simulation(episodes=100, max_steps=200):\n",
        "    env = SustainablePortfolioEnv()\n",
        "    benchmark = BenchmarkPolicy(env)\n",
        "    agent = HierarchicalPortfolioAgent(54, 8, 3)\n",
        "\n",
        "    benchmark_rewards = []\n",
        "    agent_rewards = []\n",
        "\n",
        "    print(\"Running benchmark policy simulations...\")\n",
        "    for episode in range(episodes):\n",
        "        state = env.reset()\n",
        "        total_reward = 0\n",
        "        for step in range(max_steps):\n",
        "            action = benchmark.act(state)\n",
        "            next_state, reward, done, _ = env.step(action)\n",
        "            total_reward += reward\n",
        "            state = next_state\n",
        "            if done:\n",
        "                break\n",
        "        benchmark_rewards.append(total_reward)\n",
        "        if episode % 10 == 0:\n",
        "            print(f\"Benchmark Episode {episode}/{episodes}, Total Reward: {total_reward:.4f}\")\n",
        "\n",
        "    print(\"\\nRunning RL agent training...\")\n",
        "    for episode in range(episodes):\n",
        "        state = env.reset()\n",
        "        total_reward = 0\n",
        "        for step in range(max_steps):\n",
        "            action = agent.act(state)\n",
        "            next_state, reward, done, _ = env.step(action)\n",
        "            agent.remember(state, action, reward, next_state, done)\n",
        "            total_reward += reward\n",
        "            state = next_state\n",
        "            if len(agent.high_memory) > 28:\n",
        "                agent.replay(28)\n",
        "            if done:\n",
        "                break\n",
        "        agent_rewards.append(total_reward)\n",
        "        if episode % 10 == 0:\n",
        "            print(f\"Agent Episode {episode}/{episodes}, Total Reward: {total_reward:.4f}, Epsilon: {agent.epsilon:.4f}\")\n",
        "\n",
        "    print(\"\\nResults Summary:\")\n",
        "    print(f\"Benchmark Average Reward: {np.mean(benchmark_rewards):.4f}\")\n",
        "    print(f\"Agent Average Reward: {np.mean(agent_rewards):.4f}\")\n",
        "\n",
        "    plt.figure(figsize=(10, 6))\n",
        "    plt.plot(range(episodes), benchmark_rewards, label='Benchmark')\n",
        "    plt.plot(range(episodes), agent_rewards, label='RL Agent')\n",
        "    plt.xlabel('Episode')\n",
        "    plt.ylabel('Total Reward')\n",
        "    plt.title('Learning Curve')\n",
        "    plt.legend()\n",
        "    plt.grid(True)\n",
        "    plt.savefig('learning_curve.png')\n",
        "    plt.show()\n",
        "\n",
        "\n",
        "if __name__ == \"__main__\":\n",
        "    run_simulation(episodes=100)"
      ],
      "metadata": {
        "id": "i2miHJQxmMo5",
        "outputId": "3fd363f2-78ec-40c0-cb89-dff96f828565",
        "colab": {
          "base_uri": "https://localhost:8080/"
        }
      },
      "execution_count": null,
      "outputs": [
        {
          "output_type": "stream",
          "name": "stdout",
          "text": [
            "Running benchmark policy simulations...\n",
            "Benchmark Episode 0/100, Total Reward: 92.2042\n",
            "Benchmark Episode 10/100, Total Reward: 92.2042\n",
            "Benchmark Episode 20/100, Total Reward: 92.2042\n",
            "Benchmark Episode 30/100, Total Reward: 92.1161\n",
            "Benchmark Episode 40/100, Total Reward: 92.1161\n",
            "Benchmark Episode 50/100, Total Reward: 92.2042\n",
            "Benchmark Episode 60/100, Total Reward: 92.2042\n",
            "Benchmark Episode 70/100, Total Reward: 92.2042\n",
            "Benchmark Episode 80/100, Total Reward: 92.2042\n",
            "Benchmark Episode 90/100, Total Reward: 92.2042\n",
            "\n",
            "Running RL agent training...\n",
            "Agent Episode 0/100, Total Reward: 83.2430, Epsilon: 0.4223\n",
            "Agent Episode 10/100, Total Reward: 93.9262, Epsilon: 0.0100\n"
          ]
        }
      ]
    }
  ]
}