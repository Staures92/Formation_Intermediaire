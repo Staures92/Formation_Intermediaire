{
  "nbformat": 4,
  "nbformat_minor": 0,
  "metadata": {
    "colab": {
      "provenance": [],
      "authorship_tag": "ABX9TyMSiZ5pI0wghR7kNRLtrmCY",
      "include_colab_link": true
    },
    "kernelspec": {
      "name": "python3",
      "display_name": "Python 3"
    },
    "language_info": {
      "name": "python"
    }
  },
  "cells": [
    {
      "cell_type": "markdown",
      "metadata": {
        "id": "view-in-github",
        "colab_type": "text"
      },
      "source": [
        "<a href=\"https://colab.research.google.com/github/Staures92/Formation_Intermediaire/blob/main/app_py.ipynb\" target=\"_parent\"><img src=\"https://colab.research.google.com/assets/colab-badge.svg\" alt=\"Open In Colab\"/></a>"
      ]
    },
    {
      "cell_type": "code",
      "execution_count": null,
      "metadata": {
        "id": "2JkH5sbPDzxo"
      },
      "outputs": [],
      "source": [
        "import streamlit as st\n",
        "import joblib\n",
        "import re\n",
        "import nltk\n",
        "from nltk.tokenize import word_tokenize\n",
        "from nltk.corpus import stopwords\n",
        "from sklearn.feature_extraction.text import CountVectorizer\n",
        "\n",
        "# Téléchargement des ressources NLTK nécessaires\n",
        "nltk.download('stopwords')\n",
        "nltk.download('punkt')\n",
        "\n",
        "# Chargement du modèle et du vectoriseur\n",
        "model = joblib.load('client_review_classifier.joblib')\n",
        "vectorizer = joblib.load('vectorizer.joblib')\n",
        "\n",
        "# Fonction de prétraitement du texte\n",
        "def preprocess_text(text):\n",
        "    # Supprimer les caractères spéciaux\n",
        "    text = re.sub(r'[^\\w\\s]', '', text)\n",
        "\n",
        "    # Supprimer les URLs\n",
        "    text = re.sub(r'http\\S+', '', text)\n",
        "\n",
        "    # Supprimer les hashtags et les mentions\n",
        "    text = re.sub(r'#\\w+|@\\w+', '', text)\n",
        "\n",
        "    # Convertir en minuscules\n",
        "    text = text.lower()\n",
        "\n",
        "    # Tokenization\n",
        "    tokens = word_tokenize(text)\n",
        "\n",
        "    # Supprimer les stop words\n",
        "    stop_words = set(stopwords.words('english'))\n",
        "    tokens = [word for word in tokens if word not in stop_words]\n",
        "\n",
        "    return ' '.join(tokens)\n",
        "\n",
        "# Fonction pour prédire le sentiment\n",
        "def predict_sentiment(text):\n",
        "    preprocessed_text = preprocess_text(text)\n",
        "    vectorized_text = vectorizer.transform([preprocessed_text])\n",
        "    prediction = model.predict(vectorized_text)\n",
        "    return prediction[0]\n",
        "\n",
        "# Interface utilisateur Streamlit\n",
        "st.title(\"Analyse des sentiments des avis clients\")\n",
        "\n",
        "user_input = st.text_area(\"Entrez votre avis client ici:\")\n",
        "\n",
        "if st.button(\"Analyser le sentiment\"):\n",
        "    if user_input:\n",
        "        sentiment = predict_sentiment(user_input)\n",
        "\n",
        "        if sentiment == 0:\n",
        "            st.error(\"Sentiment: Négatif\")\n",
        "        elif sentiment == 1:\n",
        "            st.success(\"Sentiment: Positif\")\n",
        "        else:\n",
        "            st.warning(\"Sentiment: Neutre\")\n",
        "    else:\n",
        "        st.warning(\"Veuillez entrer un avis avant d'analyser.\")\n",
        "\n",
        "st.info(\"Cette application utilise un modèle d'apprentissage automatique pour analyser le sentiment des avis clients.\")"
      ]
    }
  ]
}