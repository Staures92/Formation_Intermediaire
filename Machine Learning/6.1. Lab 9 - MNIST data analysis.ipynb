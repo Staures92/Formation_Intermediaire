{
 "cells": [
  {
   "cell_type": "markdown",
   "metadata": {
    "id": "TL5y5fY9Jy_x"
   },
   "source": [
    "# Lab 6 : Réseaux de neurones\n",
    "\n",
    "Dans ce laboratoire, nous allons construire des réseaux de neurones denses sur l'ensemble de données MNIST.\n",
    "\n",
    "Assurez-vous de lire d'abord le cours de cet lab."
   ]
  },
  {
   "cell_type": "markdown",
   "metadata": {},
   "source": [
    "<center>\n",
    "<img src=\"https://miro.medium.com/v2/resize:fit:1400/1*SfRJNb5dOOPZYEFY5jDRqA.png\">"
   ]
  },
  {
   "cell_type": "markdown",
   "metadata": {
    "toc": true
   },
   "source": [
    "<h1>Table of Contents<span class=\"tocSkip\"></span></h1>\n",
    "<div class=\"toc\"><ul class=\"toc-item\"><li><span><a href=\"#Chargez-les-données-et-créez-des-répartitions-train-test\" data-toc-modified-id=\"Chargez-les-données-et-créez-des-répartitions-train-test-1\"><span class=\"toc-item-num\">1&nbsp;&nbsp;</span>Chargez les données et créez des répartitions train-test</a></span></li><li><span><a href=\"#Exercice-1-:-Prétraitement\" data-toc-modified-id=\"Exercice-1-:-Prétraitement-2\"><span class=\"toc-item-num\">2&nbsp;&nbsp;</span>Exercice 1 : Prétraitement</a></span></li><li><span><a href=\"#Exercice&nbsp;2&nbsp;:&nbsp;Créer-un-modèle-de-réseau-neuronal-profond\" data-toc-modified-id=\"Exercice&nbsp;2&nbsp;:&nbsp;Créer-un-modèle-de-réseau-neuronal-profond-3\"><span class=\"toc-item-num\">3&nbsp;&nbsp;</span>Exercice&nbsp;2&nbsp;:&nbsp;Créer un modèle de réseau neuronal profond</a></span></li><li><span><a href=\"#Exercice-3-:-Créer-une-fonction-d'entraînement\" data-toc-modified-id=\"Exercice-3-:-Créer-une-fonction-d'entraînement-4\"><span class=\"toc-item-num\">4&nbsp;&nbsp;</span>Exercice 3 : Créer une fonction d'entraînement</a></span></li><li><span><a href=\"#Exercice-4&nbsp;:-Évaluer-le-modèle\" data-toc-modified-id=\"Exercice-4&nbsp;:-Évaluer-le-modèle-5\"><span class=\"toc-item-num\">5&nbsp;&nbsp;</span>Exercice 4&nbsp;: Évaluer le modèle</a></span></li><li><span><a href=\"#Exercice-5-:-Optimiser-le-modèle\" data-toc-modified-id=\"Exercice-5-:-Optimiser-le-modèle-6\"><span class=\"toc-item-num\">6&nbsp;&nbsp;</span>Exercice 5 : Optimiser le modèle</a></span></li></ul></div>"
   ]
  },
  {
   "cell_type": "markdown",
   "metadata": {},
   "source": [
    "## Chargez les données et créez des répartitions train-test"
   ]
  },
  {
   "cell_type": "code",
   "execution_count": 2,
   "metadata": {
    "ExecuteTime": {
     "end_time": "2024-07-06T07:44:00.528221Z",
     "start_time": "2024-07-06T07:44:00.518409Z"
    }
   },
   "outputs": [],
   "source": [
    "# Auto-setup when running on Google Colab\n",
    "if 'google.colab' in str(get_ipython()):\n",
    "    !pip install openml\n",
    "\n",
    "# Hide convergence warning for now\n",
    "import warnings\n",
    "from sklearn.exceptions import ConvergenceWarning\n",
    "with warnings.catch_warnings():\n",
    "    warnings.filterwarnings(\"ignore\", category=ConvergenceWarning)\n",
    "    \n",
    "# General imports\n",
    "%matplotlib inline\n",
    "import numpy as np\n",
    "import pandas as pd\n",
    "import matplotlib.pyplot as plt\n",
    "import openml as oml\n",
    "from matplotlib import cm\n",
    "import tensorflow.keras as tf\n",
    "\n"
   ]
  },
  {
   "cell_type": "code",
   "execution_count": 2,
   "metadata": {},
   "outputs": [
    {
     "data": {
      "image/png": "[encoded data removed]",
      "text/plain": [
       "<Figure size 720x360 with 5 Axes>"
      ]
     },
     "metadata": {},
     "output_type": "display_data"
    }
   ],
   "source": [
    "# Download MNIST data. Takes a while the first time.\n",
    "mnist = oml.datasets.get_dataset(554)\n",
    "X, y, _, _ = mnist.get_data(target=mnist.default_target_attribute, dataset_format='array');\n",
    "X = X.reshape(70000, 28, 28)\n",
    "\n",
    "# Take some random examples\n",
    "from random import randint\n",
    "fig, axes = plt.subplots(1, 5,  figsize=(10, 5))\n",
    "for i in range(5):\n",
    "    n = randint(0,70000)\n",
    "    axes[i].imshow(X[n], cmap=plt.cm.gray_r)\n",
    "    axes[i].set_xticks([])\n",
    "    axes[i].set_yticks([])\n",
    "    axes[i].set_xlabel(\"{}\".format(y[n]))\n",
    "plt.show();"
   ]
  },
  {
   "cell_type": "code",
   "execution_count": 3,
   "metadata": {
    "id": "JZlvdpyYKx7V"
   },
   "outputs": [],
   "source": [
    "# For MNIST, there exists a predefined stratified train-test split of 60000-10000. We therefore don't shuffle or stratify here.\n",
    "from sklearn.model_selection import train_test_split\n",
    "X_train, X_test, y_train, y_test = train_test_split(X, y, train_size=60000, random_state=0)"
   ]
  },
  {
   "cell_type": "markdown",
   "metadata": {
    "id": "8ldP-5z1B2vL"
   },
   "source": [
    "## Exercice 1 : Prétraitement\n",
    "* Normalisez les données : Faites correspondre chaque valeur de caractéristique de sa représentation actuelle (un entier compris entre 0 et 255) à une valeur à virgule flottante comprise entre 0 et 1,0.\n",
    "* Stockez les valeurs à virgule flottante dans `x_train_normalized` et `x_test_normalized`.\n",
    "* Faites correspondre l'étiquette de classe sur une valeur onehot encodee. Stocker dans `y_train_encoded` et `y_test_encoded`."
   ]
  },
  {
   "cell_type": "markdown",
   "metadata": {
    "id": "3014ezH3C7jT"
   },
   "source": [
    "## Exercice 2 : Créer un modèle de réseau neuronal profond\n",
    "\n",
    "Implémentez une fonction `create_model` qui définit la topographie du réseau neuronal profond, en spécifiant les éléments suivants :\n",
    "\n",
    "* Le nombre de couches dans le réseau neuronal profond : utilisez 2 couches denses pour l'instant.\n",
    "* Le nombre de nœuds dans chaque couche : ce sont des paramètres de votre fonction.\n",
    "* Toutes les couches de régularisation. Ajoutez au moins une couche de dropout.\n",
    "* L'optimiseur et le taux d'apprentissage. Faites également du taux d'apprentissage un paramètre de votre fonction.\n",
    "\n",
    "Considérer:\n",
    "* Quelle doit être la forme de la couche d'entrée ?\n",
    "* De quelle fonction d'activation aurez-vous besoin pour la dernière couche, puisqu'il s'agit d'un problème de classification en 10 classes ?"
   ]
  },
  {
   "cell_type": "code",
   "execution_count": 4,
   "metadata": {},
   "outputs": [],
   "source": [
    "### Create and compile a 'deep' neural net\n",
    "def create_model(layer_1_units=32, layer_2_units=10, learning_rate=0.001, dropout_rate=0.3):\n",
    "    pass"
   ]
  },
  {
   "cell_type": "markdown",
   "metadata": {},
   "source": [
    "## Exercice 3 : Créer une fonction d'entraînement\n",
    "Implémentez une fonction `train_model` qui entraîne et évalue un modèle donné.\n",
    "Il doit effectuer une répartition train-validation, signaler la perte et la précision du train et de la validation, et renvoyer l'historique d'entrainement."
   ]
  },
  {
   "cell_type": "code",
   "execution_count": 5,
   "metadata": {},
   "outputs": [],
   "source": [
    "def train_model(model, X, y, validation_split=0.1, epochs=10, batch_size=None):\n",
    "    \"\"\"\n",
    "    model: the model to train\n",
    "    X, y: the training data and labels\n",
    "    validation_split: the percentage of data set aside for the validation set\n",
    "    epochs: the number of epochs to train for\n",
    "    batch_size: the batch size for minibatch SGD\n",
    "    \"\"\"\n",
    "    pass"
   ]
  },
  {
   "cell_type": "markdown",
   "metadata": {
    "id": "D-IXYVfvM4gD"
   },
   "source": [
    "## Exercice 4 : Évaluer le modèle\n",
    "\n",
    "Entraînez le modèle avec un taux d'apprentissage de 0,003, 50 époques, une taille de lot de 4 000 et un ensemble de validation représentant 20 % du total des données d'entraînement.\n",
    "Sinon, utilisez les paramètres par défaut. Tracez la courbe d'apprentissage de la loss, de la validation loss, de l'accuracy et de la validation accuracy. Enfin, signalez les performances sur l’ensemble de test.\n",
    "\n",
    "N'hésitez pas à utiliser la fonction de traçage ci-dessous ou à implémenter le callback du cours pour voir les résultats en temps réel."
   ]
  },
  {
   "cell_type": "code",
   "execution_count": 6,
   "metadata": {
    "cellView": "form",
    "id": "QF0BFRXTOeR3"
   },
   "outputs": [],
   "source": [
    "# Helper plotting function\n",
    "#\n",
    "# history: the history object returned by the fit function\n",
    "# list_of_metrics: the metrics to plot\n",
    "def plot_curve(history, list_of_metrics):\n",
    "    \n",
    "    plt.figure()\n",
    "    plt.xlabel(\"Epoch\")\n",
    "    plt.ylabel(\"Value\")\n",
    "\n",
    "    epochs = history.epoch\n",
    "    hist = pd.DataFrame(history.history)\n",
    "\n",
    "    for m in list_of_metrics:\n",
    "        x = hist[m]\n",
    "        plt.plot(epochs[1:], x[1:], label=m, lw=2)\n",
    "\n",
    "    plt.legend()"
   ]
  },
  {
   "cell_type": "markdown",
   "metadata": {
    "id": "Y5IKmk7D49_n"
   },
   "source": [
    "## Exercice 5 : Optimiser le modèle\n",
    "\n",
    "Essayez d'optimiser le modèle, soit manuellement, soit avec une méthode de réglage. Optimisez au moins les éléments suivants :\n",
    "* le nombre de couches cachées\n",
    "* le nombre de nœuds dans chaque couche\n",
    "* le nombre de couches de Dropout et le taux de Dropout\n",
    "\n",
    "Essayez d'atteindre une précision d'au moins 96 % par rapport à l'ensemble de test."
   ]
  },
  {
   "cell_type": "code",
   "execution_count": null,
   "metadata": {},
   "outputs": [],
   "source": []
  }
 ],
 "metadata": {
  "colab": {
   "collapsed_sections": [],
   "name": "Copy of Multi-class classification with MNIST.ipynb",
   "private_outputs": true,
   "provenance": []
  },
  "hide_input": false,
  "kernelspec": {
   "display_name": "Python 3 (ipykernel)",
   "language": "python",
   "name": "python3"
  },
  "language_info": {
   "codemirror_mode": {
    "name": "ipython",
    "version": 3
   },
   "file_extension": ".py",
   "mimetype": "text/x-python",
   "name": "python",
   "nbconvert_exporter": "python",
   "pygments_lexer": "ipython3",
   "version": "3.11.7"
  },
  "nbTranslate": {
   "displayLangs": [
    "*"
   ],
   "hotkey": "alt-t",
   "langInMainMenu": true,
   "sourceLang": "en",
   "targetLang": "fr",
   "useGoogleTranslate": true
  },
  "toc": {
   "base_numbering": 1,
   "nav_menu": {},
   "number_sections": true,
   "sideBar": true,
   "skip_h1_title": true,
   "title_cell": "Table of Contents",
   "title_sidebar": "Contents",
   "toc_cell": true,
   "toc_position": {},
   "toc_section_display": true,
   "toc_window_display": true
  },
  "varInspector": {
   "cols": {
    "lenName": 16,
    "lenType": 16,
    "lenVar": 40
   },
   "kernels_config": {
    "python": {
     "delete_cmd_postfix": "",
     "delete_cmd_prefix": "del ",
     "library": "var_list.py",
     "varRefreshCmd": "print(var_dic_list())"
    },
    "r": {
     "delete_cmd_postfix": ") ",
     "delete_cmd_prefix": "rm(",
     "library": "var_list.r",
     "varRefreshCmd": "cat(var_dic_list()) "
    }
   },
   "types_to_exclude": [
    "module",
    "function",
    "builtin_function_or_method",
    "instance",
    "_Feature"
   ],
   "window_display": false
  }
 },
 "nbformat": 4,
 "nbformat_minor": 4
}
