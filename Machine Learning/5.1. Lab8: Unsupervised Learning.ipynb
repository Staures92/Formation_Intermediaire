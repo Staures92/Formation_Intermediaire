{
 "cells": [
  {
   "cell_type": "markdown",
   "metadata": {
    "_uuid": "8ccb4ff4aaeaae5004d2203e0149a7c416bd7c4b"
   },
   "source": [
    "<center>\n",
    "<img src=\"https://pub.mdpi-res.com/sensors/sensors-21-02141/article_deploy/html/images/sensors-21-02141-g001.png?1616391439\">\n"
   ]
  },
  {
   "cell_type": "markdown",
   "metadata": {
    "_uuid": "fb758fbaa68c09ce13b31fd6982499c2212de2a1"
   },
   "source": [
    "## <center> Lab 8: Unsupervised learning"
   ]
  },
  {
   "cell_type": "markdown",
   "metadata": {
    "_uuid": "19ed99767bc346b8cabd9c285c46d78341b68ac0"
   },
   "source": [
    "Dans cette tâche, nous examinerons le fonctionnement des méthodes de réduction de dimensionnalité et de clustering des données. En même temps, nous nous entraînerons à nouveau à résoudre la tâche de classification.\n",
    "\n",
    "Nous travaillerons avec l'ensemble de données [Samsung Human Activity Recognition](https://archive.ics.uci.edu/ml/datasets/Human+Activity+Recognition+Using+Smartphones). Téléchargez les données [ici](https://drive.google.com/file/d/14RukQ0ylM2GCdViUHBBjZ2imCaYcjlux/view?usp=sharing). Les données proviennent des accéléromètres et des gyroscopes des téléphones mobiles Samsung Galaxy S3 (vous pouvez trouver plus d'informations sur les fonctionnalités en utilisant le lien ci-dessus), le type d'activité d'une personne avec un téléphone dans sa poche est également connu – si elle/ elle marchait, se levait, s'allongeait, s'asseyait ou montait ou descendait les escaliers.\n",
    "\n",
    "Premièrement, nous prétendons que le type d’activité nous est inconnu et nous essaierons de regrouper les personnes uniquement sur la base des fonctionnalités disponibles. Ensuite, nous résolvons le problème de la détermination du type d'activité physique en tant que problème de classification."
   ]
  },
  {
   "cell_type": "code",
   "execution_count": 2,
   "metadata": {
    "_uuid": "49d35cc6431c8053964544de63bb91e638db1fa9"
   },
   "outputs": [],
   "source": [
    "import os\n",
    "import numpy as np\n",
    "import pandas as pd\n",
    "import seaborn as sns\n",
    "from tqdm import tqdm_notebook\n",
    "\n",
    "%matplotlib inline\n",
    "from matplotlib import pyplot as plt\n",
    "# plt.style.use(['seaborn-darkgrid'])\n",
    "plt.rcParams['figure.figsize'] = (12, 9)\n",
    "plt.rcParams['font.family'] = 'DejaVu Sans'\n",
    "\n",
    "from sklearn import metrics\n",
    "from sklearn.cluster import KMeans, AgglomerativeClustering, SpectralClustering\n",
    "from sklearn.decomposition import PCA\n",
    "from sklearn.model_selection import GridSearchCV\n",
    "from sklearn.preprocessing import StandardScaler\n",
    "from sklearn.svm import LinearSVC\n",
    "\n",
    "RANDOM_STATE = 17"
   ]
  },
  {
   "cell_type": "code",
   "execution_count": 2,
   "metadata": {
    "_uuid": "5a288069f3a890d7a37113ef2800e8a7b1dd1afb"
   },
   "outputs": [],
   "source": [
    "# change this if necessary\n",
    "PATH_TO_SAMSUNG_DATA = \"data/\""
   ]
  },
  {
   "cell_type": "code",
   "execution_count": 3,
   "metadata": {
    "_uuid": "75b935cdfe1e013aae43db776e8db37a20e2ac6b"
   },
   "outputs": [],
   "source": [
    "X_train = np.loadtxt(os.path.join(PATH_TO_SAMSUNG_DATA, \"samsung_train.txt\"))\n",
    "y_train = np.loadtxt(os.path.join(PATH_TO_SAMSUNG_DATA,\n",
    "                                  \"samsung_train_labels.txt\")).astype(int)\n",
    "\n",
    "X_test = np.loadtxt(os.path.join(PATH_TO_SAMSUNG_DATA, \"samsung_test.txt\"))\n",
    "y_test = np.loadtxt(os.path.join(PATH_TO_SAMSUNG_DATA,\n",
    "                                  \"samsung_test_labels.txt\")).astype(int)"
   ]
  },
  {
   "cell_type": "code",
   "execution_count": 4,
   "metadata": {
    "_uuid": "98b267f6cfd624a0458dabdde5525b27970978bc"
   },
   "outputs": [],
   "source": [
    "# Checking dimensions\n",
    "assert(X_train.shape == (7352, 561) and y_train.shape == (7352,))\n",
    "assert(X_test.shape == (2947, 561) and y_test.shape == (2947,))"
   ]
  },
  {
   "cell_type": "markdown",
   "metadata": {
    "_uuid": "6ae636fe849d7d67db976feaa7ca2e25ba7c3795"
   },
   "source": [
    "Pour le clustering, nous n'avons pas besoin d'un vecteur cible, nous travaillerons donc avec une combinaison d'échantillons d'entraînement et de test. Fusionnez `X_train` avec `X_test` et `y_train` avec `y_test`."
   ]
  },
  {
   "cell_type": "code",
   "execution_count": 5,
   "metadata": {
    "_uuid": "e57109377ec2f6c93542f038ccf57fc751f06812"
   },
   "outputs": [],
   "source": [
    "# Your code here"
   ]
  },
  {
   "cell_type": "markdown",
   "metadata": {
    "_uuid": "77c4ccbe64c015a09874cff61bf751b0e7917ef4"
   },
   "source": [
    "Définissez le nombre de valeurs uniques des étiquettes de la classe cible."
   ]
  },
  {
   "cell_type": "code",
   "execution_count": 6,
   "metadata": {
    "_uuid": "5a92a3783a446acf928972d3ec418f29a0cff6e0"
   },
   "outputs": [],
   "source": [
    "# np.unique(y)"
   ]
  },
  {
   "cell_type": "code",
   "execution_count": 7,
   "metadata": {
    "_uuid": "e29b5a97cba7305053fbe12985eb3abaf012eeb0"
   },
   "outputs": [],
   "source": [
    "# n_classes = np.unique(y).size"
   ]
  },
  {
   "cell_type": "markdown",
   "metadata": {
    "_uuid": "3c878aa4cc63242a33b9d030efba7623bd8a5d2c"
   },
   "source": [
    "[Ces étiquettes correspondent à :](https://archive.ics.uci.edu/ml/machine-learning-databases/00240/UCI%20HAR%20Dataset.names)\n",
    "- 1 – marcher\n",
    "- 2 – monter les escaliers\n",
    "- 3 – descendre les escaliers\n",
    "- 4 – assis\n",
    "- 5 – debout\n",
    "- 6 – couché"
   ]
  },
  {
   "cell_type": "markdown",
   "metadata": {
    "_uuid": "f2037a9432194f9a3d2f390ca2ad49a1ac1a6192"
   },
   "source": [
    "Mettez à l'échelle l'échantillon à l'aide de `StandardScaler` avec les paramètres par défaut."
   ]
  },
  {
   "cell_type": "code",
   "execution_count": 8,
   "metadata": {
    "_uuid": "70461dfacab8bd090d951e6114beaa40aa293919"
   },
   "outputs": [],
   "source": [
    "# Your code here"
   ]
  },
  {
   "cell_type": "markdown",
   "metadata": {
    "_uuid": "b7249210501c3396bddbf57cea47ac01a0d85170"
   },
   "source": [
    "Réduisez le nombre de dimensions à l'aide de l'ACP, en laissant autant de composants que nécessaire pour expliquer au moins 90 % de la variance des données d'origine (mises à l'échelle). Utilisez l'ensemble de données mis à l'échelle et corrigez `random_state` (constante RANDOM_STATE)."
   ]
  },
  {
   "cell_type": "code",
   "execution_count": 9,
   "metadata": {
    "_uuid": "2fc8993e03857d93b59e5e1e5800f494b23239be"
   },
   "outputs": [],
   "source": [
    "# Your code here\n",
    "# pca = \n",
    "# X_pca = "
   ]
  },
  {
   "cell_type": "markdown",
   "metadata": {
    "_uuid": "f0664d287ec08bb891d3c12fc87977bf92c97ae3"
   },
   "source": [
    "**Question 1 :** <br>\n",
    "\n",
    "Quel est le nombre minimum de composantes principales requis pour couvrir les 90 % de la variance des données originales (mises à l'échelle) ?"
   ]
  },
  {
   "cell_type": "code",
   "execution_count": 10,
   "metadata": {
    "_uuid": "c67c5a22dec7dbc1bfa362d85ddad72334cb6ffb"
   },
   "outputs": [],
   "source": [
    "# Your code here"
   ]
  },
  {
   "cell_type": "markdown",
   "metadata": {
    "_uuid": "a3d8270e6546cb8b38b7cd47909eff93d77716bc"
   },
   "source": [
    "**Options de Reponses:**\n",
    "- 56 \n",
    "- 65\n",
    "- 66\n",
    "- 193"
   ]
  },
  {
   "cell_type": "markdown",
   "metadata": {
    "_uuid": "baf5451408baf763d178b01a5d75e37105f4446e"
   },
   "source": [
    "**Question 2 :**<br>\n",
    "Quel pourcentage de la variance est couvert par la première composante principale ? Arrondir au pourcentage le plus proche.\n",
    "\n",
    "**Options de réponse :**\n",
    "- 45\n",
    "- 51\n",
    "- 56\n",
    "- 61"
   ]
  },
  {
   "cell_type": "code",
   "execution_count": 11,
   "metadata": {
    "_uuid": "3fcec6dd81af6f09364cb011ba0994d4e5852f43"
   },
   "outputs": [],
   "source": [
    "# Your code here"
   ]
  },
  {
   "cell_type": "markdown",
   "metadata": {
    "_uuid": "53787132590f0f8b8f9b44d47981f9de969b89f2"
   },
   "source": [
    "Visualisez les données en projection sur les deux premières composantes principales."
   ]
  },
  {
   "cell_type": "code",
   "execution_count": 12,
   "metadata": {
    "_uuid": "3ce508b33d3f0a1128265e57cad8b8093a71f8a6"
   },
   "outputs": [],
   "source": [
    "# Your code here\n",
    "# plt.scatter(, , c=y, s=20, cmap='viridis');"
   ]
  },
  {
   "cell_type": "markdown",
   "metadata": {
    "_uuid": "e54a8eb905c5d9b6180083fab0ef8f74ca582c62"
   },
   "source": [
    "**Question 3 :**<br>\n",
    "Si tout s’est bien passé, vous verrez un certain nombre de clusters presque parfaitement séparés les uns des autres. Quels types d’activités sont inclus dans ces clusters ? <br>\n",
    "\n",
    "**Options de réponse :**\n",
    "- 1 cluster : les 6 activités\n",
    "- 2 clusters : (marcher, monter les escaliers, descendre les escaliers) et (assis, debout, allongé)\n",
    "- 3 clusters : (marcher), (monter les escaliers, descendre les escaliers) et (assis, debout, allongé)\n",
    "- 6 clusters"
   ]
  },
  {
   "cell_type": "markdown",
   "metadata": {
    "_uuid": "8880c32278abd73e16764a6b842717cd783b66cf"
   },
   "source": [
    "------------------------------"
   ]
  },
  {
   "cell_type": "markdown",
   "metadata": {
    "_uuid": "37b0cfd306d225c21ae1e2a8abb882870a24271b"
   },
   "source": [
    "Effectuez un clustering avec la méthode `KMeans`, en entraînant le modèle sur des données à dimensionnalité réduite (par PCA). Dans ce cas, nous donnerons un indice pour rechercher exactement 6 clusters, mais dans le cas général, nous ne saurons pas combien de clusters nous devons rechercher.\n",
    "\n",
    "Possibilités :\n",
    "\n",
    "- **n_clusters** = n_classes (nombre de labels uniques de la classe cible)\n",
    "- **n_init** = 100\n",
    "- **random_state** = RANDOM_STATE (pour la reproductibilité du résultat)\n",
    "\n",
    "Les autres paramètres doivent avoir des valeurs par défaut."
   ]
  },
  {
   "cell_type": "code",
   "execution_count": 13,
   "metadata": {
    "_uuid": "0d6d17a62f335bb062ea0e5134cb03ff60cb085b"
   },
   "outputs": [],
   "source": [
    "# Your code here"
   ]
  },
  {
   "cell_type": "markdown",
   "metadata": {
    "_uuid": "e34d43b9b3ebd34ad01c3a1d9d1a4dde85a4e832"
   },
   "source": [
    "Visualisez les données en projection sur les deux premières composantes principales. Colorie les points selon les clusters obtenus."
   ]
  },
  {
   "cell_type": "code",
   "execution_count": 14,
   "metadata": {
    "_uuid": "c05aa57fd57870aaa25543be822a75801a80b9a2"
   },
   "outputs": [],
   "source": [
    "# Your code here\n",
    "# plt.scatter(, , c=cluster_labels, s=20, cmap='viridis');"
   ]
  },
  {
   "cell_type": "markdown",
   "metadata": {
    "_uuid": "0d84b356e4e6f91f05fdb9a526ccfdb099523882"
   },
   "source": [
    "Examinez la correspondance entre les marques de cluster et les étiquettes de classe d'origine et les types d'activités pour lesquelles l'algorithme `KMeans` est confus."
   ]
  },
  {
   "cell_type": "code",
   "execution_count": 15,
   "metadata": {
    "_uuid": "617e35a6ce5f78fa73d315b5cdbcad8e29c8cf21"
   },
   "outputs": [],
   "source": [
    "# tab = pd.crosstab(y, cluster_labels, margins=True)\n",
    "# tab.index = ['walking', 'going up the stairs',\n",
    "#             'going down the stairs', 'sitting', 'standing', 'laying', 'all']\n",
    "# tab.columns = ['cluster' + str(i + 1) for i in range(6)] + ['all']\n",
    "# tab"
   ]
  },
  {
   "cell_type": "markdown",
   "metadata": {
    "_uuid": "047f89c9981e696776ee98f87d0934ee1b08ed98"
   },
   "source": [
    "Nous voyons que pour chaque classe (c’est-à-dire chaque activité), il existe plusieurs clusters. Examinons le pourcentage maximum d'objets dans une classe attribués à un seul cluster. Il s'agira d'une métrique simple qui caractérise la facilité avec laquelle la classe est séparée des autres lors du clustering.\n",
    "\n",
    "Exemple : si pour la classe \"descendre les escaliers\" (avec 1406 instances lui appartenant), la répartition des clusters est :\n",
    " - groupe 1 à 900\n",
    " - groupe 3 - 500\n",
    " - groupe 6 - 6,\n",
    "\n",
    "alors une telle part sera de 900/1406 $ \\approx 0,64 $.\n",
    "\n",
    "\n",
    "**Question 4 :** <br>\n",
    "Quelle activité est mieux séparée des autres que les autres sur la base de la simple métrique décrite ci-dessus ? <br>\n",
    "\n",
    "**Répondre:**\n",
    "- marche\n",
    "- debout\n",
    "- descendre les escaliers\n",
    "- les trois options sont incorrectes"
   ]
  },
  {
   "cell_type": "markdown",
   "metadata": {
    "_uuid": "c51f76505725d754a6d54f7bd01dedff7d5dc288"
   },
   "source": [
    "On voit que kMeans ne distingue pas très bien les activités. Utilisez la méthode du coude pour sélectionner le nombre optimal de clusters. Les paramètres de l'algorithme et les données que nous utilisons sont les mêmes qu'avant, nous modifions uniquement `n_clusters`."
   ]
  },
  {
   "cell_type": "code",
   "execution_count": 16,
   "metadata": {
    "_uuid": "90c60a1f8bce02bfedd8233190b7ff81fb134d35"
   },
   "outputs": [],
   "source": [
    "# # Your code here\n",
    "# inertia = []\n",
    "# for k in tqdm_notebook(range(1, n_classes + 1)):\n",
    "#     pass"
   ]
  },
  {
   "cell_type": "markdown",
   "metadata": {
    "_uuid": "5f9d80ac0bea5173134d880a5c1faf233456cd12"
   },
   "source": [
    "**Question 5 :** <br>\n",
    "Combien de clusters peut-on choisir selon la méthode du coude ? <br>\n",
    "\n",
    "**Options de réponse :**\n",
    "- 1\n",
    "- 2\n",
    "- 3\n",
    "- 4"
   ]
  },
  {
   "cell_type": "markdown",
   "metadata": {
    "_uuid": "f4b2c7c0bf71844e2aa1981b20bee09d9064255d"
   },
   "source": [
    "------------------------"
   ]
  },
  {
   "cell_type": "markdown",
   "metadata": {
    "_uuid": "234da989840379595bc0e65f6c1f81b78eddf19f"
   },
   "source": [
    "Essayons un autre algorithme de clustering, décrit dans l'article : le clustering agglomératif."
   ]
  },
  {
   "cell_type": "code",
   "execution_count": 17,
   "metadata": {
    "_uuid": "1b6a2ea741788687a5f650ae5489385ffa8246cf"
   },
   "outputs": [],
   "source": [
    "# ag = AgglomerativeClustering(n_clusters=n_classes, \n",
    "#                              linkage='ward').fit(X_pca)"
   ]
  },
  {
   "cell_type": "markdown",
   "metadata": {
    "_uuid": "e7865fcf352c96efef317c24b424233acd0c5dd3"
   },
   "source": [
    "Calculez l'indice Rand ajusté (`sklearn.metrics`) pour le clustering résultant et pour ` KMeans` avec les paramètres de la 4ème question."
   ]
  },
  {
   "cell_type": "code",
   "execution_count": 18,
   "metadata": {
    "_uuid": "6d934179759ebf8159a6879c6e906a6a4d44544e"
   },
   "outputs": [],
   "source": [
    "# Your code here"
   ]
  },
  {
   "cell_type": "markdown",
   "metadata": {
    "_uuid": "ccee7b5d2d1155ebe672cec4282bb06af01f87a4"
   },
   "source": [
    "**Question 6 :** <br>\n",
    "Sélectionnez toutes les affirmations correctes. <br>\n",
    "\n",
    "**Options de réponse :**\n",
    "- Selon ARI, KMeans a moins bien géré le clustering que le clustering agglomératif\n",
    "- Pour ARI, peu importe les balises attribuées au cluster, seul le partitionnement des instances en clusters compte\n",
    "- En cas de partitionnement aléatoire en clusters, l'ARI sera proche de zéro"
   ]
  },
  {
   "cell_type": "markdown",
   "metadata": {
    "_uuid": "1367c265153403060e4e0bd69fe578cfafd03678"
   },
   "source": [
    "-------------------------------"
   ]
  },
  {
   "cell_type": "markdown",
   "metadata": {
    "_uuid": "eadfcc38dded52cc91f75a422a6eff8f1a5993c7"
   },
   "source": [
    "Vous pouvez remarquer que la tâche n'est pas très bien résolue lorsque l'on essaie de détecter plusieurs clusters (> 2). Résolvons maintenant le problème de classification, étant donné que les données sont étiquetées.\n",
    "\n",
    "Pour la classification, utilisez la machine à vecteurs de support – classe `sklearn.svm.LinearSVC`. Dans ce cours, nous avons étudié cet algorithme séparément, mais il est bien connu et vous pouvez le lire, par exemple [ici](http://cs231n.github.io/linear-classify/#svmvssoftmax).\n",
    "\n",
    "Choisissez l'hyperparamètre `C` pour` LinearSVC` à l'aide de `GridSearchCV`.\n",
    "\n",
    "- Former le nouveau `StandardScaler` sur l'ensemble de formation (avec toutes les fonctionnalités d'origine), appliquer la mise à l'échelle à l'ensemble de test\n",
    "- Dans `GridSearchCV`, précisez `cv` = 3."
   ]
  },
  {
   "cell_type": "code",
   "execution_count": 19,
   "metadata": {
    "_uuid": "61151d2f16a8beb49e7635e95ea55129f6e984ac"
   },
   "outputs": [],
   "source": [
    "# # Your code here\n",
    "# scaler = StandardScaler()\n",
    "# X_train_scaled =\n",
    "# X_test_scaled = "
   ]
  },
  {
   "cell_type": "code",
   "execution_count": 20,
   "metadata": {
    "_uuid": "7b0c661771542832de4f923b5206f6c8df1aa508"
   },
   "outputs": [],
   "source": [
    "svc = LinearSVC(random_state=RANDOM_STATE)\n",
    "svc_params = {'C': [0.001, 0.01, 0.1, 1, 10]}"
   ]
  },
  {
   "cell_type": "code",
   "execution_count": 21,
   "metadata": {
    "_uuid": "3f0573b69142f89a7a4f4852c4a1366b7f85270b"
   },
   "outputs": [],
   "source": [
    "# %%time\n",
    "# # Your code here\n",
    "# best_svc = None"
   ]
  },
  {
   "cell_type": "code",
   "execution_count": 22,
   "metadata": {
    "_uuid": "4cff688492768e0f226b0aff08d4eb07450ed4ce"
   },
   "outputs": [],
   "source": [
    "# best_svc.best_params_, best_svc.best_score_"
   ]
  },
  {
   "cell_type": "markdown",
   "metadata": {
    "_uuid": "b6214f9ec00411039cde3237ed7891053d9d8c5d"
   },
   "source": [
    "**Question 7**<br>\n",
    "Quelle valeur de l'hyperparamètre « C » a été choisie la meilleure sur la base d'une validation croisée ? <br>\n",
    "\n",
    "**Options de réponse :**\n",
    "- 0,001\n",
    "- 0,01\n",
    "- 0,1\n",
    "- 1\n",
    "- dix"
   ]
  },
  {
   "cell_type": "code",
   "execution_count": 23,
   "metadata": {
    "_uuid": "02e74bf62e37fbad5df8a685d6b06b2c9a48daaf"
   },
   "outputs": [],
   "source": [
    "# y_predicted = best_svc.predict(X_test_scaled)"
   ]
  },
  {
   "cell_type": "code",
   "execution_count": 24,
   "metadata": {
    "_uuid": "3e9804082d8a9eb666149074a8d1983ccb19ae2d"
   },
   "outputs": [],
   "source": [
    "# tab = pd.crosstab(y_test, y_predicted, margins=True)\n",
    "# tab.index = ['walking', 'climbing up the stairs',\n",
    "#              'going down the stairs', 'sitting', 'standing', 'laying', 'all']\n",
    "# tab.columns = ['walking', 'climbing up the stairs',\n",
    "#              'going down the stairs', 'sitting', 'standing', 'laying', 'all']\n",
    "# tab"
   ]
  },
  {
   "cell_type": "markdown",
   "metadata": {
    "_uuid": "f1bae145f1034a9c42679e73240cd0860bc207c6"
   },
   "source": [
    "**Question 8 :** <br>\n",
    "Quel type d’activité est le moins bien détecté par SVM en termes de précision ? Vous vous souvenez ?<br>\n",
    "\n",
    "**Options de réponse :**\n",
    "- oui\n",
    "- Non"
   ]
  },
  {
   "cell_type": "markdown",
   "metadata": {
    "_uuid": "472b5dadcd567b019cc6cd729a3917459207df14"
   },
   "source": [
    "Enfin, faites la même chose qu'à la question 7, mais ajoutez PCA.\n",
    "\n",
    "- Utilisez `X_train_scaled` et` X_test_scaled`\n",
    "- Entraînez le même PCA qu'avant, sur l'ensemble d'entraînement mis à l'échelle, appliquez la mise à l'échelle à l'ensemble de test\n",
    "- Choisir l'hyperparamètre `C` via validation croisée sur l'ensemble d'entraînement avec transformation PCA. Vous remarquerez à quel point cela fonctionne plus vite maintenant.\n",
    "\n",
    "**Question 9 :** <br>\n",
    "Quelle est la différence entre la meilleure qualité (précision) pour la validation croisée dans le cas de l'ensemble des 561 caractéristiques initiales et dans le second cas, lorsque la méthode des composantes principales a été appliquée ? Arrondir au pourcentage le plus proche. <br>\n",
    "\n",
    "**Options de réponse :**\n",
    "- la qualité est la même\n",
    "- 2%\n",
    "- 4%\n",
    "- dix%\n",
    "- 20%"
   ]
  },
  {
   "cell_type": "code",
   "execution_count": 25,
   "metadata": {
    "_uuid": "51508ed1cc529287af7cb3ebe62c5112bd4e5d19"
   },
   "outputs": [],
   "source": [
    "# Your code here"
   ]
  },
  {
   "cell_type": "markdown",
   "metadata": {
    "_uuid": "01dc096cb4ea5717d8709f2a7581574211753cf8"
   },
   "source": [
    "**Question 10 :** <br>\n",
    "Sélectionnez toutes les affirmations correctes :\n",
    "\n",
    "**Options de réponse :**\n",
    "- L'analyse en composantes principales dans ce cas a permis de réduire le temps d'entrainement du modèle, tandis que la qualité (la proportion de réponses correctes lors de la validation croisée) en a grandement souffert, de plus de 10 %\n",
    "- La PCA peut être utilisée pour visualiser des données, mais il existe de meilleures méthodes pour cette tâche, par exemple tSNE. Mais la PCA a moins de complexité informatique \n",
    "- L'ACP construit des combinaisons linéaires de caractéristiques initiales mal interprétées par les humains\n",
    "- SVM fonctionne mieux que kMeans, car il réduit clairement l'algorithme au problème d'optimisation\n"
   ]
  },
  {
   "cell_type": "markdown",
   "metadata": {},
   "source": []
  }
 ],
 "metadata": {
  "kernelspec": {
   "display_name": "Python 3",
   "language": "python",
   "name": "python3"
  },
  "language_info": {
   "codemirror_mode": {
    "name": "ipython",
    "version": 3
   },
   "file_extension": ".py",
   "mimetype": "text/x-python",
   "name": "python",
   "nbconvert_exporter": "python",
   "pygments_lexer": "ipython3",
   "version": "3.1.-1"
  }
 },
 "nbformat": 4,
 "nbformat_minor": 4
}
