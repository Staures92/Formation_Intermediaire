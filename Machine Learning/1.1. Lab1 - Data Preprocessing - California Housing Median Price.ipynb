{
 "cells": [
  {
   "cell_type": "markdown",
   "id": "068ce9b2",
   "metadata": {
    "toc": true
   },
   "source": [
    "<h1>Table of Contents<span class=\"tocSkip\"></span></h1>\n",
    "<div class=\"toc\"><ul class=\"toc-item\"><li><span><a href=\"#Importation-des-librairies-utiles\" data-toc-modified-id=\"Importation-des-librairies-utiles-1\"><span class=\"toc-item-num\">1&nbsp;&nbsp;</span>Importation des librairies utiles</a></span></li><li><span><a href=\"#Obtention-des-données\" data-toc-modified-id=\"Obtention-des-données-2\"><span class=\"toc-item-num\">2&nbsp;&nbsp;</span>Obtention des données</a></span></li><li><span><a href=\"#Exploration-de-la-Donnée\" data-toc-modified-id=\"Exploration-de-la-Donnée-3\"><span class=\"toc-item-num\">3&nbsp;&nbsp;</span>Exploration de la Donnée</a></span></li><li><span><a href=\"#Préparation-des-données\" data-toc-modified-id=\"Préparation-des-données-4\"><span class=\"toc-item-num\">4&nbsp;&nbsp;</span>Préparation des données</a></span></li></ul></div>"
   ]
  },
  {
   "cell_type": "markdown",
   "id": "4ca157d0",
   "metadata": {},
   "source": [
    "<img src=\"https://miro.medium.com/v2/resize:fit:1400/0*-G8VWk7x24EcOyza\" alt=\"image\" width=\"100%\">"
   ]
  },
  {
   "cell_type": "markdown",
   "id": "af3683bb",
   "metadata": {
    "lang": "en"
   },
   "source": [
    "L'objectif de ce Lab est de préparer les données permettant de prédire les prix de l'immobilier en Californie en 1990.\n",
    "\n",
    "Les données concernent les maisons trouvées dans un district californien donné et quelques statistiques récapitulatives à leur sujet basées sur les données du recensement de 1990. Soyez averti que les données ne sont pas nettoyées, certaines étapes de prétraitement sont donc requises ! Les colonnes sont les suivantes, leurs noms sont assez explicites :\n",
    "\n",
    "longitude\n",
    "\n",
    "latitude\n",
    "\n",
    "logement_âge médian_\n",
    "\n",
    "total_chambres\n",
    "\n",
    "total_chambres\n",
    "\n",
    "population\n",
    "\n",
    "ménages\n",
    "\n",
    "revenu_médian\n",
    "\n",
    "valeur médiane_de la maison\n",
    "\n",
    "océan_proximité\n",
    "\n",
    "Le prétraitement comprend la détection et la gestion des valeurs manquantes, l'enodage des caractéristiques catégorielles et ne se limite pas à ces étapes."
   ]
  },
  {
   "cell_type": "markdown",
   "id": "38750769",
   "metadata": {},
   "source": [
    "## Importation des librairies utiles"
   ]
  },
  {
   "cell_type": "code",
   "execution_count": 2,
   "id": "558fd931",
   "metadata": {
    "ExecuteTime": {
     "end_time": "2024-06-29T09:19:28.248546Z",
     "start_time": "2024-06-29T09:19:28.246800Z"
    }
   },
   "outputs": [],
   "source": [
    "import warnings\n",
    "warnings.filterwarnings(\"ignore\")"
   ]
  },
  {
   "cell_type": "code",
   "execution_count": 3,
   "id": "708b8bde",
   "metadata": {
    "ExecuteTime": {
     "end_time": "2024-06-29T09:19:29.733297Z",
     "start_time": "2024-06-29T09:19:28.254732Z"
    }
   },
   "outputs": [],
   "source": [
    "# import des librairies\n",
    "import os, random\n",
    "\n",
    "import numpy as np # manipulation de matrices\n",
    "import pandas as pd # chargement de donnees\n",
    "\n",
    "#visualisation\n",
    "import seaborn as sns \n",
    "import matplotlib.pyplot as plt \n",
    "\n",
    "# visualition de valeurs manquantes\n",
    "import missingno as msno\n",
    "\n",
    "# gestion des valeurs manquantes\n",
    "from sklearn.impute import SimpleImputer\n",
    "\n",
    "# encodage des variables categorielles\n",
    "from sklearn.preprocessing import OneHotEncoder  \n",
    "\n",
    "# mise a l'echelle des variables numeriques\n",
    "from sklearn.preprocessing import StandardScaler  \n",
    "\n",
    "# separation de la donnee en train, validation, et test\n",
    "from sklearn.model_selection import train_test_split\n",
    "\n",
    "# création de pipeline\n",
    "from sklearn.pipeline import Pipeline\n"
   ]
  },
  {
   "cell_type": "code",
   "execution_count": 4,
   "id": "2b935973",
   "metadata": {
    "ExecuteTime": {
     "end_time": "2024-06-29T09:19:29.736988Z",
     "start_time": "2024-06-29T09:19:29.735089Z"
    }
   },
   "outputs": [],
   "source": [
    "# ne modifier pas ce bout de code\n",
    "seed = 2024\n",
    "random.seed(seed)\n",
    "np.random.seed(seed)"
   ]
  },
  {
   "cell_type": "markdown",
   "id": "bb377923",
   "metadata": {},
   "source": [
    "## Obtention des données"
   ]
  },
  {
   "cell_type": "markdown",
   "id": "b99656ac",
   "metadata": {},
   "source": [
    "La donnée nécessaire pour ce Lab se trouve dans le dossier data/housing.csv."
   ]
  },
  {
   "cell_type": "code",
   "execution_count": 5,
   "id": "bc003697",
   "metadata": {
    "ExecuteTime": {
     "end_time": "2024-06-29T09:19:29.764080Z",
     "start_time": "2024-06-29T09:19:29.738050Z"
    }
   },
   "outputs": [],
   "source": [
    "# charger la donée  \n",
    "housing_df = pd.read_csv(\"data/housing.csv\")"
   ]
  },
  {
   "cell_type": "code",
   "execution_count": 6,
   "id": "1a65921c",
   "metadata": {
    "ExecuteTime": {
     "end_time": "2024-06-29T09:19:29.775855Z",
     "start_time": "2024-06-29T09:19:29.765322Z"
    }
   },
   "outputs": [
    {
     "data": {
      "text/html": [
       "<div>\n",
       "<style scoped>\n",
       "    .dataframe tbody tr th:only-of-type {\n",
       "        vertical-align: middle;\n",
       "    }\n",
       "\n",
       "    .dataframe tbody tr th {\n",
       "        vertical-align: top;\n",
       "    }\n",
       "\n",
       "    .dataframe thead th {\n",
       "        text-align: right;\n",
       "    }\n",
       "</style>\n",
       "<table border=\"1\" class=\"dataframe\">\n",
       "  <thead>\n",
       "    <tr style=\"text-align: right;\">\n",
       "      <th></th>\n",
       "      <th>longitude</th>\n",
       "      <th>latitude</th>\n",
       "      <th>housing_median_age</th>\n",
       "      <th>total_rooms</th>\n",
       "      <th>total_bedrooms</th>\n",
       "      <th>population</th>\n",
       "      <th>households</th>\n",
       "      <th>median_income</th>\n",
       "      <th>median_house_value</th>\n",
       "      <th>ocean_proximity</th>\n",
       "    </tr>\n",
       "  </thead>\n",
       "  <tbody>\n",
       "    <tr>\n",
       "      <th>0</th>\n",
       "      <td>-122.23</td>\n",
       "      <td>37.88</td>\n",
       "      <td>41.0</td>\n",
       "      <td>880.0</td>\n",
       "      <td>129.0</td>\n",
       "      <td>322.0</td>\n",
       "      <td>126.0</td>\n",
       "      <td>8.3252</td>\n",
       "      <td>452600.0</td>\n",
       "      <td>NEAR BAY</td>\n",
       "    </tr>\n",
       "    <tr>\n",
       "      <th>1</th>\n",
       "      <td>-122.22</td>\n",
       "      <td>37.86</td>\n",
       "      <td>21.0</td>\n",
       "      <td>7099.0</td>\n",
       "      <td>1106.0</td>\n",
       "      <td>2401.0</td>\n",
       "      <td>1138.0</td>\n",
       "      <td>8.3014</td>\n",
       "      <td>358500.0</td>\n",
       "      <td>NEAR BAY</td>\n",
       "    </tr>\n",
       "    <tr>\n",
       "      <th>2</th>\n",
       "      <td>-122.24</td>\n",
       "      <td>37.85</td>\n",
       "      <td>52.0</td>\n",
       "      <td>1467.0</td>\n",
       "      <td>190.0</td>\n",
       "      <td>496.0</td>\n",
       "      <td>177.0</td>\n",
       "      <td>7.2574</td>\n",
       "      <td>352100.0</td>\n",
       "      <td>NEAR BAY</td>\n",
       "    </tr>\n",
       "    <tr>\n",
       "      <th>3</th>\n",
       "      <td>-122.25</td>\n",
       "      <td>37.85</td>\n",
       "      <td>52.0</td>\n",
       "      <td>1274.0</td>\n",
       "      <td>235.0</td>\n",
       "      <td>558.0</td>\n",
       "      <td>219.0</td>\n",
       "      <td>5.6431</td>\n",
       "      <td>341300.0</td>\n",
       "      <td>NEAR BAY</td>\n",
       "    </tr>\n",
       "    <tr>\n",
       "      <th>4</th>\n",
       "      <td>-122.25</td>\n",
       "      <td>37.85</td>\n",
       "      <td>52.0</td>\n",
       "      <td>1627.0</td>\n",
       "      <td>280.0</td>\n",
       "      <td>565.0</td>\n",
       "      <td>259.0</td>\n",
       "      <td>3.8462</td>\n",
       "      <td>342200.0</td>\n",
       "      <td>NEAR BAY</td>\n",
       "    </tr>\n",
       "  </tbody>\n",
       "</table>\n",
       "</div>"
      ],
      "text/plain": [
       "   longitude  latitude  housing_median_age  total_rooms  total_bedrooms  \\\n",
       "0    -122.23     37.88                41.0        880.0           129.0   \n",
       "1    -122.22     37.86                21.0       7099.0          1106.0   \n",
       "2    -122.24     37.85                52.0       1467.0           190.0   \n",
       "3    -122.25     37.85                52.0       1274.0           235.0   \n",
       "4    -122.25     37.85                52.0       1627.0           280.0   \n",
       "\n",
       "   population  households  median_income  median_house_value ocean_proximity  \n",
       "0       322.0       126.0         8.3252            452600.0        NEAR BAY  \n",
       "1      2401.0      1138.0         8.3014            358500.0        NEAR BAY  \n",
       "2       496.0       177.0         7.2574            352100.0        NEAR BAY  \n",
       "3       558.0       219.0         5.6431            341300.0        NEAR BAY  \n",
       "4       565.0       259.0         3.8462            342200.0        NEAR BAY  "
      ]
     },
     "execution_count": 6,
     "metadata": {},
     "output_type": "execute_result"
    }
   ],
   "source": [
    "# afficher les 5 premières lignes\n",
    "housing_df.head()"
   ]
  },
  {
   "cell_type": "code",
   "execution_count": 8,
   "id": "f5e93bac",
   "metadata": {
    "ExecuteTime": {
     "end_time": "2024-06-29T09:20:31.320766Z",
     "start_time": "2024-06-29T09:20:31.287237Z"
    }
   },
   "outputs": [
    {
     "data": {
      "text/html": [
       "<div>\n",
       "<style scoped>\n",
       "    .dataframe tbody tr th:only-of-type {\n",
       "        vertical-align: middle;\n",
       "    }\n",
       "\n",
       "    .dataframe tbody tr th {\n",
       "        vertical-align: top;\n",
       "    }\n",
       "\n",
       "    .dataframe thead th {\n",
       "        text-align: right;\n",
       "    }\n",
       "</style>\n",
       "<table border=\"1\" class=\"dataframe\">\n",
       "  <thead>\n",
       "    <tr style=\"text-align: right;\">\n",
       "      <th></th>\n",
       "      <th>count</th>\n",
       "      <th>mean</th>\n",
       "      <th>std</th>\n",
       "      <th>min</th>\n",
       "      <th>25%</th>\n",
       "      <th>50%</th>\n",
       "      <th>75%</th>\n",
       "      <th>max</th>\n",
       "    </tr>\n",
       "  </thead>\n",
       "  <tbody>\n",
       "    <tr>\n",
       "      <th>longitude</th>\n",
       "      <td>20640.0</td>\n",
       "      <td>-119.569704</td>\n",
       "      <td>2.003532</td>\n",
       "      <td>-124.3500</td>\n",
       "      <td>-121.8000</td>\n",
       "      <td>-118.4900</td>\n",
       "      <td>-118.01000</td>\n",
       "      <td>-114.3100</td>\n",
       "    </tr>\n",
       "    <tr>\n",
       "      <th>latitude</th>\n",
       "      <td>20640.0</td>\n",
       "      <td>35.631861</td>\n",
       "      <td>2.135952</td>\n",
       "      <td>32.5400</td>\n",
       "      <td>33.9300</td>\n",
       "      <td>34.2600</td>\n",
       "      <td>37.71000</td>\n",
       "      <td>41.9500</td>\n",
       "    </tr>\n",
       "    <tr>\n",
       "      <th>housing_median_age</th>\n",
       "      <td>20640.0</td>\n",
       "      <td>28.639486</td>\n",
       "      <td>12.585558</td>\n",
       "      <td>1.0000</td>\n",
       "      <td>18.0000</td>\n",
       "      <td>29.0000</td>\n",
       "      <td>37.00000</td>\n",
       "      <td>52.0000</td>\n",
       "    </tr>\n",
       "    <tr>\n",
       "      <th>total_rooms</th>\n",
       "      <td>20640.0</td>\n",
       "      <td>2635.763081</td>\n",
       "      <td>2181.615252</td>\n",
       "      <td>2.0000</td>\n",
       "      <td>1447.7500</td>\n",
       "      <td>2127.0000</td>\n",
       "      <td>3148.00000</td>\n",
       "      <td>39320.0000</td>\n",
       "    </tr>\n",
       "    <tr>\n",
       "      <th>total_bedrooms</th>\n",
       "      <td>20433.0</td>\n",
       "      <td>537.870553</td>\n",
       "      <td>421.385070</td>\n",
       "      <td>1.0000</td>\n",
       "      <td>296.0000</td>\n",
       "      <td>435.0000</td>\n",
       "      <td>647.00000</td>\n",
       "      <td>6445.0000</td>\n",
       "    </tr>\n",
       "    <tr>\n",
       "      <th>population</th>\n",
       "      <td>20640.0</td>\n",
       "      <td>1425.476744</td>\n",
       "      <td>1132.462122</td>\n",
       "      <td>3.0000</td>\n",
       "      <td>787.0000</td>\n",
       "      <td>1166.0000</td>\n",
       "      <td>1725.00000</td>\n",
       "      <td>35682.0000</td>\n",
       "    </tr>\n",
       "    <tr>\n",
       "      <th>households</th>\n",
       "      <td>20640.0</td>\n",
       "      <td>499.539680</td>\n",
       "      <td>382.329753</td>\n",
       "      <td>1.0000</td>\n",
       "      <td>280.0000</td>\n",
       "      <td>409.0000</td>\n",
       "      <td>605.00000</td>\n",
       "      <td>6082.0000</td>\n",
       "    </tr>\n",
       "    <tr>\n",
       "      <th>median_income</th>\n",
       "      <td>20640.0</td>\n",
       "      <td>3.870671</td>\n",
       "      <td>1.899822</td>\n",
       "      <td>0.4999</td>\n",
       "      <td>2.5634</td>\n",
       "      <td>3.5348</td>\n",
       "      <td>4.74325</td>\n",
       "      <td>15.0001</td>\n",
       "    </tr>\n",
       "    <tr>\n",
       "      <th>median_house_value</th>\n",
       "      <td>20640.0</td>\n",
       "      <td>206855.816909</td>\n",
       "      <td>115395.615874</td>\n",
       "      <td>14999.0000</td>\n",
       "      <td>119600.0000</td>\n",
       "      <td>179700.0000</td>\n",
       "      <td>264725.00000</td>\n",
       "      <td>500001.0000</td>\n",
       "    </tr>\n",
       "  </tbody>\n",
       "</table>\n",
       "</div>"
      ],
      "text/plain": [
       "                      count           mean            std         min  \\\n",
       "longitude           20640.0    -119.569704       2.003532   -124.3500   \n",
       "latitude            20640.0      35.631861       2.135952     32.5400   \n",
       "housing_median_age  20640.0      28.639486      12.585558      1.0000   \n",
       "total_rooms         20640.0    2635.763081    2181.615252      2.0000   \n",
       "total_bedrooms      20433.0     537.870553     421.385070      1.0000   \n",
       "population          20640.0    1425.476744    1132.462122      3.0000   \n",
       "households          20640.0     499.539680     382.329753      1.0000   \n",
       "median_income       20640.0       3.870671       1.899822      0.4999   \n",
       "median_house_value  20640.0  206855.816909  115395.615874  14999.0000   \n",
       "\n",
       "                            25%          50%           75%          max  \n",
       "longitude             -121.8000    -118.4900    -118.01000    -114.3100  \n",
       "latitude                33.9300      34.2600      37.71000      41.9500  \n",
       "housing_median_age      18.0000      29.0000      37.00000      52.0000  \n",
       "total_rooms           1447.7500    2127.0000    3148.00000   39320.0000  \n",
       "total_bedrooms         296.0000     435.0000     647.00000    6445.0000  \n",
       "population             787.0000    1166.0000    1725.00000   35682.0000  \n",
       "households             280.0000     409.0000     605.00000    6082.0000  \n",
       "median_income            2.5634       3.5348       4.74325      15.0001  \n",
       "median_house_value  119600.0000  179700.0000  264725.00000  500001.0000  "
      ]
     },
     "execution_count": 8,
     "metadata": {},
     "output_type": "execute_result"
    }
   ],
   "source": [
    "housing_df.describe().T"
   ]
  },
  {
   "cell_type": "code",
   "execution_count": 6,
   "id": "5bada91f",
   "metadata": {
    "ExecuteTime": {
     "end_time": "2024-06-18T13:23:06.021700Z",
     "start_time": "2024-06-18T13:23:06.005677Z"
    }
   },
   "outputs": [],
   "source": [
    "# vérifier la taille de la donnée\n"
   ]
  },
  {
   "cell_type": "code",
   "execution_count": 7,
   "id": "53171074",
   "metadata": {
    "ExecuteTime": {
     "end_time": "2024-06-18T13:23:06.036347Z",
     "start_time": "2024-06-18T13:23:06.025714Z"
    }
   },
   "outputs": [],
   "source": [
    "# vérifier le type de donnée (série temporelle, échantillon, géographique, ...)\n"
   ]
  },
  {
   "cell_type": "markdown",
   "id": "41d8e049",
   "metadata": {},
   "source": [
    "Le data dredging (également connu sous le nom de data snooping ou p-hacking) est l'utilisation abusive de l'analyse de données pour trouver des modèles dans les données qui peuvent être présentés comme statistiquement significatifs, augmentant ainsi considérablement le risque de faux positifs et le sous-estimant."
   ]
  },
  {
   "cell_type": "code",
   "execution_count": 8,
   "id": "f3910adf",
   "metadata": {
    "ExecuteTime": {
     "end_time": "2024-06-18T13:23:06.053452Z",
     "start_time": "2024-06-18T13:23:06.039360Z"
    }
   },
   "outputs": [],
   "source": [
    "# mettez un échantillon de 20% de la donnée de côté que vous ne regarderez jamais \n",
    "# en utilisant train_test_split. Utiliser random_state = 67\n",
    "housing_train_df, housing_test_df = _, _\n",
    "\n",
    "# sauvegarder les ensembles crees a l'aide de pd.to_csv dans le dossier data\n",
    "# sous les noms housing_train.csv et housing_test.csv\n"
   ]
  },
  {
   "cell_type": "markdown",
   "id": "b0c8e55f",
   "metadata": {},
   "source": [
    "Pour les analyses subséquentes, veillez à ne travailler qu'avec la donnée d'entraînement."
   ]
  },
  {
   "cell_type": "markdown",
   "id": "631b3d28",
   "metadata": {},
   "source": [
    "## Exploration de la Donnée"
   ]
  },
  {
   "cell_type": "markdown",
   "id": "cb4c6c8a",
   "metadata": {},
   "source": [
    "### Identifier les features et le Label"
   ]
  },
  {
   "cell_type": "markdown",
   "id": "8ccf4d35",
   "metadata": {},
   "source": [
    "- Combien de features/ caractéristiques sont présentes dans le jeu de données?\n",
    "- Quels sont leurs types?\n",
    "- Le Label est-il continu ou catégoriel?"
   ]
  },
  {
   "cell_type": "code",
   "execution_count": null,
   "id": "181153bc",
   "metadata": {},
   "outputs": [],
   "source": []
  },
  {
   "cell_type": "code",
   "execution_count": null,
   "id": "fe2b6480",
   "metadata": {},
   "outputs": [],
   "source": []
  },
  {
   "cell_type": "markdown",
   "id": "ba8bc98e",
   "metadata": {},
   "source": [
    "### Etude des valeurs dupliquées"
   ]
  },
  {
   "cell_type": "code",
   "execution_count": null,
   "id": "ec986cfa",
   "metadata": {},
   "outputs": [],
   "source": []
  },
  {
   "cell_type": "markdown",
   "id": "da165750",
   "metadata": {},
   "source": [
    "### Etude basique de valeurs aberrantes"
   ]
  },
  {
   "cell_type": "code",
   "execution_count": 9,
   "id": "eb5fbedd",
   "metadata": {
    "ExecuteTime": {
     "end_time": "2024-06-18T13:23:06.069503Z",
     "start_time": "2024-06-18T13:23:06.056468Z"
    }
   },
   "outputs": [],
   "source": [
    "## description du jeu de données et interpretation\n",
    "# comparaison des valeurs extrêmes au valeurs centrales\n"
   ]
  },
  {
   "cell_type": "markdown",
   "id": "ce762b0d",
   "metadata": {},
   "source": [
    "### Etude des valeurs manquantes"
   ]
  },
  {
   "cell_type": "code",
   "execution_count": 10,
   "id": "10ddc371",
   "metadata": {
    "ExecuteTime": {
     "end_time": "2024-06-18T13:23:06.084178Z",
     "start_time": "2024-06-18T13:23:06.073518Z"
    }
   },
   "outputs": [],
   "source": [
    "# visualiser les valeurs manquantes de quatre façons différentes\n",
    "# et interpréter chaque visualisation\n",
    "# simple tableau\n"
   ]
  },
  {
   "cell_type": "code",
   "execution_count": 11,
   "id": "6ebf740a",
   "metadata": {
    "ExecuteTime": {
     "end_time": "2024-06-18T13:23:06.105283Z",
     "start_time": "2024-06-18T13:23:06.092195Z"
    }
   },
   "outputs": [],
   "source": [
    "# dendograme\n"
   ]
  },
  {
   "cell_type": "code",
   "execution_count": 12,
   "id": "96225bbd",
   "metadata": {
    "ExecuteTime": {
     "end_time": "2024-06-18T13:23:06.119220Z",
     "start_time": "2024-06-18T13:23:06.110296Z"
    }
   },
   "outputs": [],
   "source": [
    "# heatmap de correlations\n"
   ]
  },
  {
   "cell_type": "code",
   "execution_count": 13,
   "id": "ccfddf9b",
   "metadata": {
    "ExecuteTime": {
     "end_time": "2024-06-18T13:23:06.135021Z",
     "start_time": "2024-06-18T13:23:06.123233Z"
    }
   },
   "outputs": [],
   "source": [
    "# Matrice\n"
   ]
  },
  {
   "cell_type": "markdown",
   "id": "35992392",
   "metadata": {},
   "source": [
    "### Distribution des données"
   ]
  },
  {
   "cell_type": "code",
   "execution_count": 14,
   "id": "1a2e2a7e",
   "metadata": {
    "ExecuteTime": {
     "end_time": "2024-06-18T13:23:06.150973Z",
     "start_time": "2024-06-18T13:23:06.139033Z"
    }
   },
   "outputs": [],
   "source": [
    "# Boxplot du Label vs chaque variable categorielle \n",
    "# si le nombre de catégories n'excède 10, sinon des barplots\n"
   ]
  },
  {
   "cell_type": "code",
   "execution_count": null,
   "id": "a50013d8",
   "metadata": {},
   "outputs": [],
   "source": []
  },
  {
   "cell_type": "code",
   "execution_count": 15,
   "id": "9d2e3cb3",
   "metadata": {
    "ExecuteTime": {
     "end_time": "2024-06-18T13:23:06.173052Z",
     "start_time": "2024-06-18T13:23:06.155986Z"
    }
   },
   "outputs": [],
   "source": [
    "# subplots des distributions de toutes les variables numériques\n"
   ]
  },
  {
   "cell_type": "code",
   "execution_count": null,
   "id": "e7742fb5",
   "metadata": {},
   "outputs": [],
   "source": []
  },
  {
   "cell_type": "markdown",
   "id": "d318eb1a",
   "metadata": {},
   "source": [
    "### Matrice de correlations"
   ]
  },
  {
   "cell_type": "code",
   "execution_count": null,
   "id": "f9387e28",
   "metadata": {},
   "outputs": [],
   "source": []
  },
  {
   "cell_type": "markdown",
   "id": "fbe1376c",
   "metadata": {},
   "source": [
    "### Résumé de la partie exploratoire - transformations pertinentes?"
   ]
  },
  {
   "cell_type": "code",
   "execution_count": null,
   "id": "149fa642",
   "metadata": {},
   "outputs": [],
   "source": []
  },
  {
   "cell_type": "code",
   "execution_count": null,
   "id": "4a431e5a",
   "metadata": {},
   "outputs": [],
   "source": []
  },
  {
   "cell_type": "markdown",
   "id": "728f7037",
   "metadata": {},
   "source": [
    "## Préparation des données"
   ]
  },
  {
   "cell_type": "markdown",
   "id": "9b804223",
   "metadata": {},
   "source": [
    "### Gestion des données manquantes"
   ]
  },
  {
   "cell_type": "markdown",
   "id": "83a4b367",
   "metadata": {},
   "source": [
    "- Utilisez l'une des trois approches classiques de gestion de données manquantes (suppression, encodage, imputation) à ce jeu de données et justifier votre choix. Discuter égalment de l'impact de votre approche sur les performances du modèle de prédiction du pric médian que vous concevrez plutard."
   ]
  },
  {
   "cell_type": "code",
   "execution_count": 16,
   "id": "2e74c7ca",
   "metadata": {
    "ExecuteTime": {
     "end_time": "2024-06-18T13:23:06.191088Z",
     "start_time": "2024-06-18T13:23:06.179064Z"
    }
   },
   "outputs": [],
   "source": [
    "# gestion des données manquantes\n",
    "housing_train_clean_df = _"
   ]
  },
  {
   "cell_type": "code",
   "execution_count": null,
   "id": "cc6e891b",
   "metadata": {},
   "outputs": [],
   "source": []
  },
  {
   "cell_type": "markdown",
   "id": "bc29eb57",
   "metadata": {},
   "source": [
    "### Correction ou suppression de valeurs aberrantes"
   ]
  },
  {
   "cell_type": "code",
   "execution_count": null,
   "id": "4380601f",
   "metadata": {},
   "outputs": [],
   "source": []
  },
  {
   "cell_type": "code",
   "execution_count": null,
   "id": "1f3e4523",
   "metadata": {},
   "outputs": [],
   "source": []
  },
  {
   "cell_type": "markdown",
   "id": "8e015b7c",
   "metadata": {},
   "source": [
    "### Sélection de feature"
   ]
  },
  {
   "cell_type": "code",
   "execution_count": 17,
   "id": "bae6364f",
   "metadata": {
    "ExecuteTime": {
     "end_time": "2024-06-18T13:23:06.743088Z",
     "start_time": "2024-06-18T13:23:06.735832Z"
    }
   },
   "outputs": [],
   "source": [
    "# supprimez les variables ne fournissant pas d'informations utiles\n",
    "# pour prédire le prix médian des maisons\n"
   ]
  },
  {
   "cell_type": "code",
   "execution_count": null,
   "id": "fe45139f",
   "metadata": {},
   "outputs": [],
   "source": []
  },
  {
   "cell_type": "markdown",
   "id": "99123c72",
   "metadata": {},
   "source": [
    "### Feature engineering"
   ]
  },
  {
   "cell_type": "markdown",
   "id": "8b33f480",
   "metadata": {},
   "source": [
    "- Discrétisez les variables continues\n",
    "- Décomposez les features si nécessaire : catégorie, date/time,...\n",
    "- Effectuez des transformations prometeuses : aggrégation, log(x), sqrt(x),...\n"
   ]
  },
  {
   "cell_type": "code",
   "execution_count": null,
   "id": "94210234",
   "metadata": {},
   "outputs": [],
   "source": []
  },
  {
   "cell_type": "code",
   "execution_count": null,
   "id": "599a2124",
   "metadata": {},
   "outputs": [],
   "source": []
  },
  {
   "cell_type": "markdown",
   "id": "0c2a8ae1",
   "metadata": {},
   "source": [
    "### [Feature Scaling and/or Normalization](https://colab.research.google.com/github/ml-course/master/blob/master/notebooks/06%20-%20Data%20Preprocessing.ipynb)"
   ]
  },
  {
   "cell_type": "markdown",
   "id": "01363815",
   "metadata": {},
   "source": [
    "- Réduiser à la même échelle entre 0 et 1 toutes les variables numériques"
   ]
  },
  {
   "cell_type": "code",
   "execution_count": null,
   "id": "9255b194",
   "metadata": {},
   "outputs": [],
   "source": []
  },
  {
   "cell_type": "code",
   "execution_count": null,
   "id": "adcf9c33",
   "metadata": {},
   "outputs": [],
   "source": []
  },
  {
   "cell_type": "markdown",
   "id": "1a5fb938",
   "metadata": {},
   "source": [
    "### Encoder les variables catégorielles"
   ]
  },
  {
   "cell_type": "code",
   "execution_count": null,
   "id": "88ae2b9f",
   "metadata": {},
   "outputs": [],
   "source": []
  },
  {
   "cell_type": "markdown",
   "id": "ce8f01f5",
   "metadata": {},
   "source": [
    "### Créer un pipeline "
   ]
  },
  {
   "cell_type": "markdown",
   "id": "2126a37d",
   "metadata": {},
   "source": [
    "- Créez un pipeline pour automatiser les transformations effectuer sur l'ensemble d'entraînement et éviter les fuites de données\n",
    "\n",
    "- Séparez la donnée d'entraînement en ensemble d'entraînement et de validation\n",
    "\n",
    "- Appliquer le pipeline créer dessus"
   ]
  },
  {
   "cell_type": "code",
   "execution_count": null,
   "id": "33d7b6bc",
   "metadata": {},
   "outputs": [],
   "source": []
  }
 ],
 "metadata": {
  "hide_input": false,
  "kernelspec": {
   "display_name": "Python 3 (ipykernel)",
   "language": "python",
   "name": "python3"
  },
  "language_info": {
   "codemirror_mode": {
    "name": "ipython",
    "version": 3
   },
   "file_extension": ".py",
   "mimetype": "text/x-python",
   "name": "python",
   "nbconvert_exporter": "python",
   "pygments_lexer": "ipython3",
   "version": "3.11.7"
  },
  "nbTranslate": {
   "displayLangs": [
    "*"
   ],
   "hotkey": "alt-t",
   "langInMainMenu": true,
   "sourceLang": "en",
   "targetLang": "fr",
   "useGoogleTranslate": true
  },
  "toc": {
   "base_numbering": 1,
   "nav_menu": {},
   "number_sections": true,
   "sideBar": true,
   "skip_h1_title": true,
   "title_cell": "Table of Contents",
   "title_sidebar": "Contents",
   "toc_cell": true,
   "toc_position": {},
   "toc_section_display": true,
   "toc_window_display": false
  },
  "varInspector": {
   "cols": {
    "lenName": 16,
    "lenType": 16,
    "lenVar": 40
   },
   "kernels_config": {
    "python": {
     "delete_cmd_postfix": "",
     "delete_cmd_prefix": "del ",
     "library": "var_list.py",
     "varRefreshCmd": "print(var_dic_list())"
    },
    "r": {
     "delete_cmd_postfix": ") ",
     "delete_cmd_prefix": "rm(",
     "library": "var_list.r",
     "varRefreshCmd": "cat(var_dic_list()) "
    }
   },
   "types_to_exclude": [
    "module",
    "function",
    "builtin_function_or_method",
    "instance",
    "_Feature"
   ],
   "window_display": false
  }
 },
 "nbformat": 4,
 "nbformat_minor": 5
}
